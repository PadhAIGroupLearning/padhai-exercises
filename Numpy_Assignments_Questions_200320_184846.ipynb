{
  "nbformat": 4,
  "nbformat_minor": 0,
  "metadata": {
    "colab": {
      "name": "Numpy_Assignments_Questions-200320-184846.ipynb",
      "provenance": [],
      "collapsed_sections": [],
      "toc_visible": true,
      "include_colab_link": true
    },
    "kernelspec": {
      "name": "python3",
      "display_name": "Python 3"
    }
  },
  "cells": [
    {
      "cell_type": "markdown",
      "metadata": {
        "id": "view-in-github",
        "colab_type": "text"
      },
      "source": [
        "<a href=\"https://colab.research.google.com/github/PadhAIGroupLearning/padhai-exercises/blob/master/Numpy_Assignments_Questions_200320_184846.ipynb\" target=\"_parent\"><img src=\"https://colab.research.google.com/assets/colab-badge.svg\" alt=\"Open In Colab\"/></a>"
      ]
    },
    {
      "cell_type": "markdown",
      "metadata": {
        "id": "TzyvCghfCM7X",
        "colab_type": "text"
      },
      "source": [
        "#Exercise"
      ]
    },
    {
      "cell_type": "markdown",
      "metadata": {
        "id": "etUfyClfRAbT",
        "colab_type": "text"
      },
      "source": [
        "#Import Numpy"
      ]
    },
    {
      "cell_type": "code",
      "metadata": {
        "id": "TMY4QJpFXVqu",
        "colab_type": "code",
        "colab": {}
      },
      "source": [
        "import numpy as np"
      ],
      "execution_count": 0,
      "outputs": []
    },
    {
      "cell_type": "markdown",
      "metadata": {
        "id": "8hmIWAu8WeDn",
        "colab_type": "text"
      },
      "source": [
        "# Problem-1\n",
        "1.   Write a program to multiply two matrices of size $(100, 100)$ in two methods: (a) by using `np.dot(mat_1, mat_2)` and (b) by using for-loops. Comapre the time of execution in both the cases. "
      ]
    },
    {
      "cell_type": "code",
      "metadata": {
        "id": "-uDjdVFr76oH",
        "colab_type": "code",
        "colab": {}
      },
      "source": [
        "mat_1 = np.ones((100,100)) * 2\n",
        "mat_2 = np.ones((100,100)) * 2\n"
      ],
      "execution_count": 0,
      "outputs": []
    },
    {
      "cell_type": "code",
      "metadata": {
        "id": "411rTh5vFCah",
        "colab_type": "code",
        "outputId": "9420eb19-fab4-4fdb-b6e3-3535d695aea5",
        "colab": {
          "base_uri": "https://localhost:8080/",
          "height": 51
        }
      },
      "source": [
        "%%timeit -n10 -r10\n",
        "prod = np.dot(mat_1, mat_2)\n"
      ],
      "execution_count": 11,
      "outputs": [
        {
          "output_type": "stream",
          "text": [
            "The slowest run took 4.94 times longer than the fastest. This could mean that an intermediate result is being cached.\n",
            "10 loops, best of 10: 110 µs per loop\n"
          ],
          "name": "stdout"
        }
      ]
    },
    {
      "cell_type": "code",
      "metadata": {
        "id": "HuckEio3TgJF",
        "colab_type": "code",
        "outputId": "19750016-5ca0-4bd6-f253-478786bc1de2",
        "colab": {
          "base_uri": "https://localhost:8080/",
          "height": 34
        }
      },
      "source": [
        "%%timeit -n10 -r10\n",
        "new_mat = np.empty((100,100))\n",
        "shape_mat1 = mat_1.shape\n",
        "shape_mat2 = mat_2.shape\n",
        "for row in range(shape_mat1[0]):\n",
        "    new_row = np.empty(shape_mat2[1])\n",
        "    for col in range(shape_mat2[1]):\n",
        "        new_row[col] = sum(mat_1[row,:] * mat_2[:,col])\n",
        "    new_mat[row] = new_row\n"
      ],
      "execution_count": 12,
      "outputs": [
        {
          "output_type": "stream",
          "text": [
            "10 loops, best of 10: 211 ms per loop\n"
          ],
          "name": "stdout"
        }
      ]
    },
    {
      "cell_type": "markdown",
      "metadata": {
        "id": "jflXzPDHqRsq",
        "colab_type": "text"
      },
      "source": [
        "#Problem-2\n",
        "2.   Write a program to execute the steps below using numpy:\n",
        "    $$z_{ij} = \\sum_{k=1}^{n}w_{ik}x_{kj}$$\n",
        "    $$\\sigma_{ij}(z_{ij}) = \\frac{1}{1+e^{-z_{ij}}}$$ where $\\textbf{w}$ and $\\textbf{x}$ are matrices of random numbers having  dimensions $(m,n)$ and $(n,k)$, respectively, $\\sigma(z)$ is a function which performs above defined operation on elements of $\\textbf{z}$.\n"
      ]
    },
    {
      "cell_type": "code",
      "metadata": {
        "id": "xYa4Fy-_qMqA",
        "colab_type": "code",
        "colab": {
          "base_uri": "https://localhost:8080/",
          "height": 120
        },
        "outputId": "f243f74b-64a3-4cb3-c966-d2ec0fe07cca"
      },
      "source": [
        "w = np.random.randint(1,10,(3,4))\n",
        "x = np.random.randint(1,10,(4,3))\n",
        "w = np.random.randn(3,4)\n",
        "x = np.random.randn(4,3)\n",
        "z = np.dot(w,x)\n",
        "print (z)\n",
        "print(1/(1+np.exp(-z)))\n"
      ],
      "execution_count": 13,
      "outputs": [
        {
          "output_type": "stream",
          "text": [
            "[[ 1.49308839 -1.00598245  0.30477325]\n",
            " [-0.57953172  1.17082043 -0.2135474 ]\n",
            " [-0.64400866  1.04509537 -3.28106499]]\n",
            "[[0.81654137 0.26776683 0.57560896]\n",
            " [0.35904035 0.76329328 0.44681511]\n",
            " [0.34434094 0.73983196 0.03622651]]\n"
          ],
          "name": "stdout"
        }
      ]
    },
    {
      "cell_type": "markdown",
      "metadata": {
        "id": "ZE0AiEIVUs_y",
        "colab_type": "text"
      },
      "source": [
        "#Problem-3\n",
        "3.   Consider a matrix $\\textbf{M}$ of size $(n, n)$. Flatten this into a 1-dimensional array and \n",
        "> 1. compute **mean** and **standard deviation** of $\\textbf{M}$ in *two* ways. <br>\n",
        "> 2. Apply the element wise operation as defined below: $$z_i = \\frac{x_i - \\mu}{\\sigma}$$ <br> where $x_i, \\ \\mu,\\ \\sigma$ are elements, mean and standard deviation of flattened matrix $\\textbf{M}$ respectively. And $z$ is the output vector.\n",
        "> 3. Compute the **mean** and **standard deviation** of $z$ and compare them with the **mean** and **standard deviation** of $\\textbf{M}$.\n",
        "> 4. Resaon about the above comparison."
      ]
    },
    {
      "cell_type": "code",
      "metadata": {
        "id": "gU3FzjhwUzas",
        "colab_type": "code",
        "colab": {}
      },
      "source": [
        "M = np.random.randint(1,10,(100,100))\n",
        "shape=M.shape\n",
        "M=M.reshape(1, shape[0]*shape[1])\n"
      ],
      "execution_count": 0,
      "outputs": []
    },
    {
      "cell_type": "code",
      "metadata": {
        "id": "Ccy2g7RmeZ7L",
        "colab_type": "code",
        "colab": {
          "base_uri": "https://localhost:8080/",
          "height": 51
        },
        "outputId": "6d6dd68c-a0b7-4cc0-df8b-9485e408af93"
      },
      "source": [
        "mu = np.mean(M)\n",
        "print(mu)\n",
        "M.shape"
      ],
      "execution_count": 15,
      "outputs": [
        {
          "output_type": "stream",
          "text": [
            "5.0052\n"
          ],
          "name": "stdout"
        },
        {
          "output_type": "execute_result",
          "data": {
            "text/plain": [
              "(1, 10000)"
            ]
          },
          "metadata": {
            "tags": []
          },
          "execution_count": 15
        }
      ]
    },
    {
      "cell_type": "code",
      "metadata": {
        "id": "nxsdJn8fi2Ak",
        "colab_type": "code",
        "colab": {
          "base_uri": "https://localhost:8080/",
          "height": 34
        },
        "outputId": "996e4c24-6921-4086-f1b6-47f101169823"
      },
      "source": [
        "mean_by_calc = np.sum(M)/(shape[0]*shape[1])\n",
        "print(mean_by_calc)"
      ],
      "execution_count": 16,
      "outputs": [
        {
          "output_type": "stream",
          "text": [
            "5.0052\n"
          ],
          "name": "stdout"
        }
      ]
    },
    {
      "cell_type": "code",
      "metadata": {
        "id": "RtZXUGzzkB0_",
        "colab_type": "code",
        "colab": {
          "base_uri": "https://localhost:8080/",
          "height": 34
        },
        "outputId": "4bd48add-daaf-448e-952d-f14a91b6e41d"
      },
      "source": [
        "sigma2 = (M - mu)**2\n",
        "sigma_by_calc = np.sqrt(np.mean(sigma2))\n",
        "print(sigma_by_calc)"
      ],
      "execution_count": 17,
      "outputs": [
        {
          "output_type": "stream",
          "text": [
            "2.593448083151078\n"
          ],
          "name": "stdout"
        }
      ]
    },
    {
      "cell_type": "code",
      "metadata": {
        "id": "TXtZ2D8ekumZ",
        "colab_type": "code",
        "colab": {
          "base_uri": "https://localhost:8080/",
          "height": 34
        },
        "outputId": "ad67c98d-0b57-4e38-e89e-43fb38fb1673"
      },
      "source": [
        "sigma = np.std(M)\n",
        "print(sigma)"
      ],
      "execution_count": 18,
      "outputs": [
        {
          "output_type": "stream",
          "text": [
            "2.593448083151078\n"
          ],
          "name": "stdout"
        }
      ]
    },
    {
      "cell_type": "code",
      "metadata": {
        "id": "NIYaJJFgioMJ",
        "colab_type": "code",
        "colab": {
          "base_uri": "https://localhost:8080/",
          "height": 51
        },
        "outputId": "db0fa468-7787-45ad-b8f0-1b326be784e4"
      },
      "source": [
        "z = (M - mu)/sigma\n",
        "print(\"mean of z\", np.mean(z))\n",
        "print(\"stddev of z\", np.std(z))\n"
      ],
      "execution_count": 19,
      "outputs": [
        {
          "output_type": "stream",
          "text": [
            "mean of z -1.291411422243982e-16\n",
            "stddev of z 1.0\n"
          ],
          "name": "stdout"
        }
      ]
    },
    {
      "cell_type": "markdown",
      "metadata": {
        "id": "B9_m1OIDmBIP",
        "colab_type": "text"
      },
      "source": [
        "Mean of variance has to be 0\n",
        "\n",
        "and\n",
        "\n",
        "\n",
        "Std Dev of Variance will be 1"
      ]
    },
    {
      "cell_type": "markdown",
      "metadata": {
        "id": "SqqhA4ZqmoCr",
        "colab_type": "text"
      },
      "source": [
        "#Problem-4\n",
        "4.   Consider an $n$ dimentional vector $\\vec{V}$ (having $n$ elements), calculate :\n",
        "> 1. $|\\vec{V}|$ (magnitude of vector)\n",
        "> 2. $\\sum_{i=1}^{n}v_i^3$ in three different ways (here $n$ is total number of elements in $\\vec{V}$ and $v_i$ is $i_{th}$ element of $\\vec{V}$)."
      ]
    },
    {
      "cell_type": "code",
      "metadata": {
        "id": "mMus4LKnoviF",
        "colab_type": "code",
        "colab": {
          "base_uri": "https://localhost:8080/",
          "height": 103
        },
        "outputId": "a39603aa-ee7e-4dbb-f0e5-7a2f4b27f5a5"
      },
      "source": [
        "V = np.random.randint(1,100,100)\n",
        "print(V)"
      ],
      "execution_count": 20,
      "outputs": [
        {
          "output_type": "stream",
          "text": [
            "[52 81 46 54 48 94 31 61  9 54 72 21 27 65 91 33 26 31 90 22 50 52 65 89\n",
            " 96 77 57 64 64 16 43  5  3 11 99 20 75 88 57 99 59 38 77  8 95 92 83 84\n",
            " 79 71 22 17 24 24 42 67  6 87 69  5 42 28 86 65 59 75 34 99 88 53 75 57\n",
            "  8 99 72 16  8 30 96 15 55 47 71 69 95 43  5 31 63 25 54 35 97 34 13 42\n",
            " 34 49 34 60]\n"
          ],
          "name": "stdout"
        }
      ]
    },
    {
      "cell_type": "code",
      "metadata": {
        "id": "NI_xVN0Hpn9u",
        "colab_type": "code",
        "colab": {
          "base_uri": "https://localhost:8080/",
          "height": 34
        },
        "outputId": "35682fcb-b82b-47c4-aeb0-183274e98dcc"
      },
      "source": [
        "V_magnitude = np.sqrt((V**2).sum())\n",
        "print(V_magnitude)"
      ],
      "execution_count": 21,
      "outputs": [
        {
          "output_type": "stream",
          "text": [
            "596.7545559105519\n"
          ],
          "name": "stdout"
        }
      ]
    },
    {
      "cell_type": "code",
      "metadata": {
        "id": "vLcRxH_DSLni",
        "colab_type": "code",
        "colab": {
          "base_uri": "https://localhost:8080/",
          "height": 34
        },
        "outputId": "cc84e5b3-2a22-4ad5-bdaf-3e0dbab09a0f"
      },
      "source": [
        "V_cube_1 = (V**3).sum()\n",
        "print(V_cube_1)"
      ],
      "execution_count": 22,
      "outputs": [
        {
          "output_type": "stream",
          "text": [
            "27103438\n"
          ],
          "name": "stdout"
        }
      ]
    },
    {
      "cell_type": "code",
      "metadata": {
        "id": "Twv7o1xlSZSI",
        "colab_type": "code",
        "colab": {
          "base_uri": "https://localhost:8080/",
          "height": 34
        },
        "outputId": "34e4b742-e40c-4a63-a9c1-eca191243aa5"
      },
      "source": [
        "V_cube_2 = (V * V * V).sum()\n",
        "print(V_cube_2)"
      ],
      "execution_count": 23,
      "outputs": [
        {
          "output_type": "stream",
          "text": [
            "27103438\n"
          ],
          "name": "stdout"
        }
      ]
    },
    {
      "cell_type": "code",
      "metadata": {
        "id": "fcdK4oRwSuDv",
        "colab_type": "code",
        "colab": {
          "base_uri": "https://localhost:8080/",
          "height": 34
        },
        "outputId": "2a8da024-00fb-4dac-8ff6-69231733bfd7"
      },
      "source": [
        "V_cube_3 = np.power(V,3).sum()\n",
        "print(V_cube_3)"
      ],
      "execution_count": 24,
      "outputs": [
        {
          "output_type": "stream",
          "text": [
            "27103438\n"
          ],
          "name": "stdout"
        }
      ]
    },
    {
      "cell_type": "code",
      "metadata": {
        "id": "KtqGCnm6S3j2",
        "colab_type": "code",
        "colab": {
          "base_uri": "https://localhost:8080/",
          "height": 34
        },
        "outputId": "3e5be58c-7048-4822-efe3-5856e9df088a"
      },
      "source": [
        "V_cube_4 = np.dot(V*V,V).sum()\n",
        "print(V_cube_4)"
      ],
      "execution_count": 25,
      "outputs": [
        {
          "output_type": "stream",
          "text": [
            "27103438\n"
          ],
          "name": "stdout"
        }
      ]
    },
    {
      "cell_type": "markdown",
      "metadata": {
        "id": "CR2q-53JUxaO",
        "colab_type": "text"
      },
      "source": [
        "#Problem-5\n",
        "\n",
        "5.   Create two vectors $y$ and $\\hat{y}$ having **same** dimensions, where $\\hat{y}$ should consist of random numbers between $[0, 1]$ and $y$ should contain $0s$ and $1s$, for example $y = [0, 1, 1, 0, 1, 0, 0, 1, ..., 1]$. Compute the given expression: $$O = -\\frac{1}{n}\\sum_{i=1}^{n}[y_i\\log_2(\\hat{y_i}) + (1-y_i)\\log_2(1-\\hat{y_i})]$$\n",
        "where $n$ is the total number of elements in $y$ and $\\hat{y}$."
      ]
    },
    {
      "cell_type": "code",
      "metadata": {
        "id": "aMZVsltwU_Zy",
        "colab_type": "code",
        "colab": {}
      },
      "source": [
        "shape = 100\n",
        "y_cap = np.random.rand(shape)\n",
        "y = np.random.randint(0,2,shape)\n",
        "\n"
      ],
      "execution_count": 0,
      "outputs": []
    },
    {
      "cell_type": "code",
      "metadata": {
        "id": "5HTi6qFoVpxC",
        "colab_type": "code",
        "colab": {
          "base_uri": "https://localhost:8080/",
          "height": 34
        },
        "outputId": "3a98c201-543d-4d68-d34b-3b3da55e67a9"
      },
      "source": [
        "temp = -((y * np.log2(y_cap)) +((1-y)*np.log2(1-y_cap)))\n",
        "print(temp.mean())"
      ],
      "execution_count": 27,
      "outputs": [
        {
          "output_type": "stream",
          "text": [
            "1.5546921133106728\n"
          ],
          "name": "stdout"
        }
      ]
    }
  ]
}