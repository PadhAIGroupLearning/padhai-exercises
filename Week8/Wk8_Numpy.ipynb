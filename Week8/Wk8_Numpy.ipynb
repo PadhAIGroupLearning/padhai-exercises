{
  "nbformat": 4,
  "nbformat_minor": 0,
  "metadata": {
    "colab": {
      "name": "Wk8_Numpy.ipynb",
      "provenance": [],
      "collapsed_sections": [],
      "authorship_tag": "ABX9TyPm9VqN2JfVuqZERJulQizi",
      "include_colab_link": true
    },
    "kernelspec": {
      "name": "python3",
      "display_name": "Python 3"
    }
  },
  "cells": [
    {
      "cell_type": "markdown",
      "metadata": {
        "id": "view-in-github",
        "colab_type": "text"
      },
      "source": [
        "<a href=\"https://colab.research.google.com/github/PadhAIGroupLearning/padhai-exercises/blob/master/Week8/Wk8_Numpy.ipynb\" target=\"_parent\"><img src=\"https://colab.research.google.com/assets/colab-badge.svg\" alt=\"Open In Colab\"/></a>"
      ]
    },
    {
      "cell_type": "code",
      "metadata": {
        "id": "atY751kIzM_1",
        "colab_type": "code",
        "colab": {}
      },
      "source": [
        "import numpy as np"
      ],
      "execution_count": 0,
      "outputs": []
    },
    {
      "cell_type": "code",
      "metadata": {
        "id": "NsyeTJMDjn6P",
        "colab_type": "code",
        "colab": {}
      },
      "source": [
        "total_points = 10**6"
      ],
      "execution_count": 0,
      "outputs": []
    },
    {
      "cell_type": "code",
      "metadata": {
        "id": "7e5CyHZ__sS-",
        "colab_type": "code",
        "colab": {}
      },
      "source": [
        "total_points = 10**7\n",
        "\n",
        "\n"
      ],
      "execution_count": 0,
      "outputs": []
    },
    {
      "cell_type": "code",
      "metadata": {
        "id": "c0ZWkgvCjsY1",
        "colab_type": "code",
        "colab": {}
      },
      "source": [
        "points_in_square = np.random.rand(total_points,2)"
      ],
      "execution_count": 0,
      "outputs": []
    },
    {
      "cell_type": "code",
      "metadata": {
        "id": "Nk_9zGYldMf-",
        "colab_type": "code",
        "colab": {}
      },
      "source": [
        "dist_from_origin=[]\n",
        "for each in points_in_square:\n",
        "    dist_from_origin.append(np.sqrt(each[0]**2 + each[1]**2))\n"
      ],
      "execution_count": 0,
      "outputs": []
    },
    {
      "cell_type": "code",
      "metadata": {
        "id": "5oajxbDqfbr9",
        "colab_type": "code",
        "outputId": "52e87123-be94-418f-98ee-436c65802314",
        "colab": {
          "base_uri": "https://localhost:8080/",
          "height": 34
        }
      },
      "source": [
        "pts_outside = 0\n",
        "for each in dist_from_origin:\n",
        "    if each > 1.0:\n",
        "        pts_outside += 1\n",
        "pts_outside"
      ],
      "execution_count": 0,
      "outputs": [
        {
          "output_type": "execute_result",
          "data": {
            "text/plain": [
              "214823"
            ]
          },
          "metadata": {
            "tags": []
          },
          "execution_count": 68
        }
      ]
    },
    {
      "cell_type": "code",
      "metadata": {
        "id": "XWYyaHsziac7",
        "colab_type": "code",
        "outputId": "45e44122-3d3e-4485-c0b9-ae2249d4088c",
        "colab": {
          "base_uri": "https://localhost:8080/",
          "height": 34
        }
      },
      "source": [
        "fract_pts_inside = pts_outside/total_points\n",
        "fract_pts_inside"
      ],
      "execution_count": 0,
      "outputs": [
        {
          "output_type": "execute_result",
          "data": {
            "text/plain": [
              "0.214823"
            ]
          },
          "metadata": {
            "tags": []
          },
          "execution_count": 69
        }
      ]
    }
  ]
}