{
  "nbformat": 4,
  "nbformat_minor": 0,
  "metadata": {
    "colab": {
      "name": "Wk8_Numpy.ipynb",
      "provenance": [],
      "collapsed_sections": [],
      "toc_visible": true,
      "authorship_tag": "ABX9TyOSxhFrH7GT835eH7GOKEKj",
      "include_colab_link": true
    },
    "kernelspec": {
      "name": "python3",
      "display_name": "Python 3"
    }
  },
  "cells": [
    {
      "cell_type": "markdown",
      "metadata": {
        "id": "view-in-github",
        "colab_type": "text"
      },
      "source": [
        "<a href=\"https://colab.research.google.com/github/PadhAIGroupLearning/padhai-exercises/blob/master/Week8/Wk8_Numpy.ipynb\" target=\"_parent\"><img src=\"https://colab.research.google.com/assets/colab-badge.svg\" alt=\"Open In Colab\"/></a>"
      ]
    },
    {
      "cell_type": "code",
      "metadata": {
        "id": "atY751kIzM_1",
        "colab_type": "code",
        "colab": {}
      },
      "source": [
        "import numpy as np"
      ],
      "execution_count": 0,
      "outputs": []
    },
    {
      "cell_type": "markdown",
      "metadata": {
        "id": "bjgThzomArwD",
        "colab_type": "text"
      },
      "source": [
        "#Compute area outside circle"
      ]
    },
    {
      "cell_type": "code",
      "metadata": {
        "id": "Bq6g_-_v67dH",
        "colab_type": "code",
        "colab": {}
      },
      "source": [
        "def fract_outside_circle(npoints,ndim):\n",
        "    points_in_square = np.random.rand(npoints,ndim)\n",
        "    return np.sum(np.sqrt(np.sum((points_in_square * points_in_square),axis=1))>1)/npoints"
      ],
      "execution_count": 0,
      "outputs": []
    },
    {
      "cell_type": "code",
      "metadata": {
        "id": "1hULquy38UB6",
        "colab_type": "code",
        "colab": {}
      },
      "source": [
        "nPoints = 10**6\n",
        "for nDim in range(2,11):\n",
        "    x = fract_outside_circle(nPoints, nDim)\n",
        "    print(x)"
      ],
      "execution_count": 0,
      "outputs": []
    },
    {
      "cell_type": "markdown",
      "metadata": {
        "id": "7wUnXJ4c9SMp",
        "colab_type": "text"
      },
      "source": [
        "#Exercise on Cricket\n",
        "\n",
        "1. Find mean, median, IQR for Sachin, Rahul and India\n",
        "2. Find the histogram of Sachin's scores with 10 bins\n",
        "3. Find mean of Sachin's scores grouped by 25 matches\n",
        "4. Find mean of Sachin's scores where he has scored a century\n",
        "5. Find mean of Sachin's scores when Rahul has scored less than 10 \n",
        "6. Find mean for Sachin's scores based on which quartile India's score falls in\n",
        "7. For every match find out who has scored more - Sachin or Rahul\n",
        "8. How many more runs does Sachin score on average after having scored x runs\n",
        "9. How many matches did Sachin take to score first 1000, next 1000 ..."
      ]
    },
    {
      "cell_type": "code",
      "metadata": {
        "id": "AYaWILyaD_Ve",
        "colab_type": "code",
        "colab": {}
      },
      "source": [
        "#Test array to try out different stat operations\n",
        "arr2d = np.random.randint(1,10,(5,3))\n",
        "means = np.mean(arr2d,axis=0)\n",
        "print(arr2d)\n",
        "a = arr2d[:, 0]\n",
        "print(np.size(a))\n"
      ],
      "execution_count": 0,
      "outputs": []
    },
    {
      "cell_type": "code",
      "metadata": {
        "id": "imy1RxXk9WC8",
        "colab_type": "code",
        "outputId": "9fc1805b-26de-495d-e9f2-b3ea202b972c",
        "colab": {
          "base_uri": "https://localhost:8080/",
          "height": 123
        }
      },
      "source": [
        "#This mounts your Google Drive and the filesystem is available to you at /content/drive/My Drive/\n",
        "#Asks for an authorization, allow it and paste the code.\n",
        "from google.colab import drive\n",
        "drive.mount('/content/drive')\n",
        "\n",
        "#Open the file and read contents, store it in a string called contents\n",
        "import os\n",
        "gdrive_path = \"/content/drive/My Drive/Colab Notebooks/Week8/\"\n",
        "file = \"cric_data-200320-181217.tsv\"\n",
        "full_filename = os.path.join(gdrive_path,file)\n"
      ],
      "execution_count": 2,
      "outputs": [
        {
          "output_type": "stream",
          "text": [
            "Go to this URL in a browser: https://accounts.google.com/o/oauth2/auth?client_id=947318989803-6bn6qk8qdgf4n4g3pfee6491hc0brc4i.apps.googleusercontent.com&redirect_uri=urn%3aietf%3awg%3aoauth%3a2.0%3aoob&response_type=code&scope=email%20https%3a%2f%2fwww.googleapis.com%2fauth%2fdocs.test%20https%3a%2f%2fwww.googleapis.com%2fauth%2fdrive%20https%3a%2f%2fwww.googleapis.com%2fauth%2fdrive.photos.readonly%20https%3a%2f%2fwww.googleapis.com%2fauth%2fpeopleapi.readonly\n",
            "\n",
            "Enter your authorization code:\n",
            "··········\n",
            "Mounted at /content/drive\n"
          ],
          "name": "stdout"
        }
      ]
    },
    {
      "cell_type": "code",
      "metadata": {
        "id": "Uz-abeHg9dYQ",
        "colab_type": "code",
        "colab": {}
      },
      "source": [
        "scores = np.loadtxt(full_filename,skiprows=1, usecols=(1,2,3))\n",
        "shape_scores = scores.shape"
      ],
      "execution_count": 0,
      "outputs": []
    },
    {
      "cell_type": "code",
      "metadata": {
        "id": "gAkLjAHSCXAh",
        "colab_type": "code",
        "outputId": "2fd86ca2-6a24-4b6e-cd8d-6f56e2c72cc0",
        "colab": {
          "base_uri": "https://localhost:8080/",
          "height": 69
        }
      },
      "source": [
        "#1. Find mean, median, IQR for Sachin, Rahul and India\n",
        "means = np.mean(scores, axis = 0)\n",
        "medians = np.median(scores, axis=0)\n",
        "percentiles = np.percentile(scores,(25,75),axis=0)\n",
        "iqr = percentiles[1] - percentiles[0]\n",
        "print(\"Mean of Sachin, Rahul and India is \", means)\n",
        "print(\"median of Sachin, Rahul and India is \", medians)\n",
        "print(\"IQR of Sachin, Rahul and India is\", iqr)"
      ],
      "execution_count": 4,
      "outputs": [
        {
          "output_type": "stream",
          "text": [
            "Mean of Sachin, Rahul and India is  [ 39.87555556  32.06222222 220.79555556]\n",
            "median of Sachin, Rahul and India is  [ 27.  22. 216.]\n",
            "IQR of Sachin, Rahul and India is [57. 46. 98.]\n"
          ],
          "name": "stdout"
        }
      ]
    },
    {
      "cell_type": "code",
      "metadata": {
        "id": "I_Opjsst0xEg",
        "colab_type": "code",
        "outputId": "f3a6d99b-271f-4010-cfd2-ef23f48624b7",
        "colab": {
          "base_uri": "https://localhost:8080/",
          "height": 51
        }
      },
      "source": [
        "#2. Find the histogram of Sachin's scores with 10 bins\n",
        "histo_sachin = np.histogram(scores[:,0],bins=10)\n",
        "print(histo_sachin)\n"
      ],
      "execution_count": 5,
      "outputs": [
        {
          "output_type": "stream",
          "text": [
            "(array([99, 36, 28, 16, 11, 17,  8,  8,  1,  1]), array([  0. ,  18.6,  37.2,  55.8,  74.4,  93. , 111.6, 130.2, 148.8,\n",
            "       167.4, 186. ]))\n"
          ],
          "name": "stdout"
        }
      ]
    },
    {
      "cell_type": "code",
      "metadata": {
        "id": "7X_mf8Tr4J99",
        "colab_type": "code",
        "outputId": "2da45682-cac0-4a0c-ee1b-b29019a4f036",
        "colab": {
          "base_uri": "https://localhost:8080/",
          "height": 34
        }
      },
      "source": [
        "#3. Find mean of Sachin's scores grouped by 25 matches\n",
        "score_sachin = scores[:, 0]\n",
        "sachin_group_by_25 = score_sachin.reshape(-1,25)\n",
        "means_group_by_25 = np.mean(sachin_group_by_25,axis=1)\n",
        "print(\"Sachins's mean in matches grouped by 25 are\", means_group_by_25)"
      ],
      "execution_count": 6,
      "outputs": [
        {
          "output_type": "stream",
          "text": [
            "Sachins's mean in matches grouped by 25 are [33.96 49.4  38.48 40.16 39.36 38.2  44.6  39.52 35.2 ]\n"
          ],
          "name": "stdout"
        }
      ]
    },
    {
      "cell_type": "code",
      "metadata": {
        "id": "YAUgDhNoDdpZ",
        "colab_type": "code",
        "outputId": "c95319ec-a458-4621-9dea-09b3846e18cd",
        "colab": {
          "base_uri": "https://localhost:8080/",
          "height": 34
        }
      },
      "source": [
        "#4. Find mean of Sachin's scores where he has scored a century\n",
        "sachin_centuries_mean = np.mean(score_sachin[score_sachin>=100])\n",
        "print(\"Mean of Sachin's score where he has scored a century \",sachin_centuries_mean)"
      ],
      "execution_count": 7,
      "outputs": [
        {
          "output_type": "stream",
          "text": [
            "Mean of Sachin's score where he has scored a century  125.0\n"
          ],
          "name": "stdout"
        }
      ]
    },
    {
      "cell_type": "code",
      "metadata": {
        "id": "fiyfEDAsHGkg",
        "colab_type": "code",
        "outputId": "335c842e-487c-44dc-af1b-8eba522c9e22",
        "colab": {
          "base_uri": "https://localhost:8080/",
          "height": 34
        }
      },
      "source": [
        "#5. Find mean of Sachin's scores when Rahul has scored less than 10\n",
        "score_rahul = scores[:, 1]\n",
        "print(\"Mean of Sachin's score when Rahuls has scored less than 10 is\", np.mean(score_sachin[score_rahul<=10]))\n"
      ],
      "execution_count": 8,
      "outputs": [
        {
          "output_type": "stream",
          "text": [
            "Mean of Sachin's score when Rahuls has scored less than 10 is 40.2112676056338\n"
          ],
          "name": "stdout"
        }
      ]
    },
    {
      "cell_type": "code",
      "metadata": {
        "id": "ScyG-PKrHJqB",
        "colab_type": "code",
        "outputId": "14bdcf4e-928a-4f94-e255-3920ca0cb004",
        "colab": {
          "base_uri": "https://localhost:8080/",
          "height": 86
        }
      },
      "source": [
        "#6. Find mean for Sachin's scores based on which quartile India's score falls in\n",
        "scores_india = scores[:, 2]\n",
        "quartile = np.percentile(scores_india, [25,50,75,100])\n",
        "quartile = quartile.reshape(4,1)\n",
        "indices = scores_india < quartile\n",
        "\n",
        "for i in range (4):\n",
        "    print(\"Sachin's avarage in Q\",i+1,\"is\", np.mean(score_sachin[indices[i]]))\n",
        "\n"
      ],
      "execution_count": 9,
      "outputs": [
        {
          "output_type": "stream",
          "text": [
            "Sachin's avarage in Q 1 is 19.672727272727272\n",
            "Sachin's avarage in Q 2 is 28.18018018018018\n",
            "Sachin's avarage in Q 3 is 31.688622754491018\n",
            "Sachin's avarage in Q 4 is 39.799107142857146\n"
          ],
          "name": "stdout"
        }
      ]
    },
    {
      "cell_type": "code",
      "metadata": {
        "id": "QZCugmWPHNdQ",
        "colab_type": "code",
        "colab": {
          "base_uri": "https://localhost:8080/",
          "height": 586
        },
        "outputId": "dca25ca0-e451-4176-c1ae-9b7b1c0f2d17"
      },
      "source": [
        "#7. For every match find out who has scored more - Sachin or Rahul\n",
        "is_sachin_higher = scores[:, 0] > scores[:,1]\n",
        "np.where(is_sachin_higher == True, \"Sachin\",\"Rahul\")"
      ],
      "execution_count": 10,
      "outputs": [
        {
          "output_type": "execute_result",
          "data": {
            "text/plain": [
              "array(['Sachin', 'Rahul', 'Rahul', 'Sachin', 'Sachin', 'Rahul', 'Rahul',\n",
              "       'Sachin', 'Rahul', 'Sachin', 'Rahul', 'Rahul', 'Rahul', 'Sachin',\n",
              "       'Sachin', 'Rahul', 'Rahul', 'Rahul', 'Rahul', 'Rahul', 'Sachin',\n",
              "       'Rahul', 'Sachin', 'Sachin', 'Rahul', 'Sachin', 'Sachin', 'Rahul',\n",
              "       'Sachin', 'Sachin', 'Sachin', 'Sachin', 'Rahul', 'Rahul', 'Sachin',\n",
              "       'Rahul', 'Rahul', 'Sachin', 'Rahul', 'Sachin', 'Sachin', 'Sachin',\n",
              "       'Sachin', 'Rahul', 'Sachin', 'Rahul', 'Rahul', 'Sachin', 'Rahul',\n",
              "       'Sachin', 'Rahul', 'Rahul', 'Rahul', 'Rahul', 'Sachin', 'Rahul',\n",
              "       'Sachin', 'Sachin', 'Rahul', 'Rahul', 'Rahul', 'Sachin', 'Rahul',\n",
              "       'Sachin', 'Sachin', 'Sachin', 'Sachin', 'Rahul', 'Sachin', 'Rahul',\n",
              "       'Rahul', 'Sachin', 'Sachin', 'Rahul', 'Rahul', 'Sachin', 'Rahul',\n",
              "       'Rahul', 'Sachin', 'Rahul', 'Rahul', 'Rahul', 'Rahul', 'Rahul',\n",
              "       'Rahul', 'Sachin', 'Sachin', 'Sachin', 'Rahul', 'Sachin', 'Sachin',\n",
              "       'Sachin', 'Rahul', 'Sachin', 'Sachin', 'Rahul', 'Rahul', 'Sachin',\n",
              "       'Rahul', 'Sachin', 'Rahul', 'Rahul', 'Rahul', 'Rahul', 'Rahul',\n",
              "       'Sachin', 'Rahul', 'Rahul', 'Sachin', 'Rahul', 'Rahul', 'Sachin',\n",
              "       'Rahul', 'Sachin', 'Rahul', 'Sachin', 'Sachin', 'Sachin', 'Rahul',\n",
              "       'Sachin', 'Rahul', 'Sachin', 'Sachin', 'Sachin', 'Sachin', 'Rahul',\n",
              "       'Sachin', 'Rahul', 'Rahul', 'Sachin', 'Sachin', 'Rahul', 'Sachin',\n",
              "       'Rahul', 'Sachin', 'Sachin', 'Sachin', 'Rahul', 'Sachin', 'Sachin',\n",
              "       'Rahul', 'Rahul', 'Rahul', 'Sachin', 'Sachin', 'Sachin', 'Sachin',\n",
              "       'Rahul', 'Sachin', 'Rahul', 'Sachin', 'Sachin', 'Sachin', 'Sachin',\n",
              "       'Rahul', 'Rahul', 'Rahul', 'Sachin', 'Rahul', 'Sachin', 'Rahul',\n",
              "       'Sachin', 'Rahul', 'Sachin', 'Sachin', 'Rahul', 'Sachin', 'Rahul',\n",
              "       'Rahul', 'Sachin', 'Sachin', 'Rahul', 'Sachin', 'Sachin', 'Sachin',\n",
              "       'Sachin', 'Rahul', 'Sachin', 'Rahul', 'Rahul', 'Sachin', 'Sachin',\n",
              "       'Sachin', 'Sachin', 'Rahul', 'Rahul', 'Rahul', 'Sachin', 'Rahul',\n",
              "       'Rahul', 'Rahul', 'Rahul', 'Sachin', 'Rahul', 'Rahul', 'Sachin',\n",
              "       'Rahul', 'Rahul', 'Sachin', 'Rahul', 'Sachin', 'Sachin', 'Rahul',\n",
              "       'Rahul', 'Sachin', 'Rahul', 'Rahul', 'Rahul', 'Sachin', 'Sachin',\n",
              "       'Sachin', 'Rahul', 'Rahul', 'Sachin', 'Rahul', 'Sachin', 'Rahul',\n",
              "       'Rahul', 'Rahul', 'Rahul', 'Sachin', 'Sachin', 'Rahul', 'Sachin',\n",
              "       'Sachin'], dtype='<U6')"
            ]
          },
          "metadata": {
            "tags": []
          },
          "execution_count": 10
        }
      ]
    },
    {
      "cell_type": "code",
      "metadata": {
        "id": "YZS91KbWHP4P",
        "colab_type": "code",
        "colab": {
          "base_uri": "https://localhost:8080/",
          "height": 120
        },
        "outputId": "5360e954-78c4-4560-a468-504d1ef72ee1"
      },
      "source": [
        "#8. How many more runs does Sachin score on average after having scored x runs\n",
        "print(len(histo_sachin[1]))\n",
        "a = np.delete(histo_sachin[1], len(histo_sachin[1])-1)\n",
        "b = np.delete(histo_sachin[1],0)\n",
        "print(a)\n",
        "print(b)\n",
        "mean_histo = (a + b)/2\n",
        "print(mean_histo)\n",
        "\n",
        "current = input(\"Enter current score of sachin \")\n",
        "\n",
        "print(\"Sachin is expected to score\",int(mean_histo[mean_histo>int(current)][0]))\n",
        "\n"
      ],
      "execution_count": 11,
      "outputs": [
        {
          "output_type": "stream",
          "text": [
            "11\n",
            "[  0.   18.6  37.2  55.8  74.4  93.  111.6 130.2 148.8 167.4]\n",
            "[ 18.6  37.2  55.8  74.4  93.  111.6 130.2 148.8 167.4 186. ]\n",
            "[  9.3  27.9  46.5  65.1  83.7 102.3 120.9 139.5 158.1 176.7]\n",
            "Enter current score of sachin 10\n",
            "Sachin is expected to score 27\n"
          ],
          "name": "stdout"
        }
      ]
    },
    {
      "cell_type": "code",
      "metadata": {
        "id": "U51Tqy9-GCnc",
        "colab_type": "code",
        "outputId": "7e5cb02c-fb56-4521-e55a-d30d3be080e7",
        "colab": {
          "base_uri": "https://localhost:8080/",
          "height": 172
        }
      },
      "source": [
        "#9. How many matches did Sachin take to score first 1000, next 1000 ...\n",
        "sachin_cumulative = np.cumsum(score_sachin)\n",
        "sachin_hist_for_1000 = np.histogram(sachin_cumulative,bins=np.arange(0,10000,1000))\n",
        "\n",
        "num = [\"First\", \"second\", \"third\", \"fourth\", \"fifth\", \"sixth\", \"seventh\", \"eighth\", \"ninth\"]\n",
        "\n",
        "for i in range(len(sachin_hist_for_1000[0])):\n",
        "    print(\"Sachin took \",sachin_hist_for_1000[0][i], \" matches to score the \", num[i], \"1000 runs\" )\n",
        "\n",
        "\n"
      ],
      "execution_count": 20,
      "outputs": [
        {
          "output_type": "stream",
          "text": [
            "Sachin took  29  matches to score the  First 1000 runs\n",
            "Sachin took  18  matches to score the  second 1000 runs\n",
            "Sachin took  26  matches to score the  third 1000 runs\n",
            "Sachin took  25  matches to score the  fourth 1000 runs\n",
            "Sachin took  26  matches to score the  fifth 1000 runs\n",
            "Sachin took  26  matches to score the  sixth 1000 runs\n",
            "Sachin took  23  matches to score the  seventh 1000 runs\n",
            "Sachin took  22  matches to score the  eighth 1000 runs\n",
            "Sachin took  30  matches to score the  ninth 1000 runs\n"
          ],
          "name": "stdout"
        }
      ]
    }
  ]
}