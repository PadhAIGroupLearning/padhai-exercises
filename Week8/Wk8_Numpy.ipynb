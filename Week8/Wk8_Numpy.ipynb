{
  "nbformat": 4,
  "nbformat_minor": 0,
  "metadata": {
    "colab": {
      "name": "Wk8_Numpy.ipynb",
      "provenance": [],
      "collapsed_sections": [],
      "authorship_tag": "ABX9TyNDmaTO+yUJeXQFbkGpDVA9",
      "include_colab_link": true
    },
    "kernelspec": {
      "name": "python3",
      "display_name": "Python 3"
    }
  },
  "cells": [
    {
      "cell_type": "markdown",
      "metadata": {
        "id": "view-in-github",
        "colab_type": "text"
      },
      "source": [
        "<a href=\"https://colab.research.google.com/github/PadhAIGroupLearning/padhai-exercises/blob/master/Week8/Wk8_Numpy.ipynb\" target=\"_parent\"><img src=\"https://colab.research.google.com/assets/colab-badge.svg\" alt=\"Open In Colab\"/></a>"
      ]
    },
    {
      "cell_type": "markdown",
      "metadata": {
        "id": "bjgThzomArwD",
        "colab_type": "text"
      },
      "source": [
        "#Compute area outside circle"
      ]
    },
    {
      "cell_type": "code",
      "metadata": {
        "id": "atY751kIzM_1",
        "colab_type": "code",
        "colab": {}
      },
      "source": [
        "import numpy as np"
      ],
      "execution_count": 0,
      "outputs": []
    },
    {
      "cell_type": "code",
      "metadata": {
        "id": "Bq6g_-_v67dH",
        "colab_type": "code",
        "colab": {}
      },
      "source": [
        "def fract_outside_circle(npoints,ndim):\n",
        "    points_in_square = np.random.rand(npoints,ndim)\n",
        "    return np.sum(np.sqrt(np.sum((points_in_square * points_in_square),axis=1))>1)/npoints"
      ],
      "execution_count": 0,
      "outputs": []
    },
    {
      "cell_type": "code",
      "metadata": {
        "id": "1hULquy38UB6",
        "colab_type": "code",
        "colab": {}
      },
      "source": [
        "nPoints = 10**6\n",
        "for nDim in range(2,11):\n",
        "    x = fract_outside_circle(nPoints, nDim)\n",
        "    print(x)"
      ],
      "execution_count": 0,
      "outputs": []
    },
    {
      "cell_type": "markdown",
      "metadata": {
        "id": "7wUnXJ4c9SMp",
        "colab_type": "text"
      },
      "source": [
        "#Exercise on Cricket\n",
        "\n",
        "1. Find mean, median, IQR for Sachin, Rahul and India\n",
        "2. Find the histogram of Sachin's scores with 10 bins\n",
        "3. Find mean of Sachin's scores grouped by 25 matches\n",
        "4. Find mean of Sachin's scores where he has scored a century\n",
        "5. Find mean of Sachin's scores when Rahul has scored less than 10 \n",
        "6. Find mean for Sachin's scores based on which quartile India's score falls in\n",
        "7. For every match find out who has scored more - Sachin or Rahul\n",
        "8. How many more runs does Sachin score on average after having scored x runs"
      ]
    },
    {
      "cell_type": "code",
      "metadata": {
        "id": "AYaWILyaD_Ve",
        "colab_type": "code",
        "colab": {
          "base_uri": "https://localhost:8080/",
          "height": 34
        },
        "outputId": "40910ccf-c67f-4ee3-9692-15e7a0351494"
      },
      "source": [
        "#Test array to try out different stat operations\n",
        "arr2d = [[9, 9, 3],\n",
        "       [9, 4, 9],\n",
        "       [9, 4, 3],\n",
        "       [7, 8, 8],\n",
        "       [5, 8, 2],\n",
        "       [6, 5, 7],\n",
        "       [9, 5, 1],\n",
        "       [8, 4, 9],\n",
        "       [7, 9, 8],\n",
        "       [8, 8, 1]]\n",
        "means = np.mean(arr2d,axis=0)\n",
        "means\n",
        "#arr2d[:, 0]"
      ],
      "execution_count": 32,
      "outputs": [
        {
          "output_type": "execute_result",
          "data": {
            "text/plain": [
              "array([7.7, 6.4, 5.1])"
            ]
          },
          "metadata": {
            "tags": []
          },
          "execution_count": 32
        }
      ]
    },
    {
      "cell_type": "code",
      "metadata": {
        "id": "imy1RxXk9WC8",
        "colab_type": "code",
        "colab": {
          "base_uri": "https://localhost:8080/",
          "height": 34
        },
        "outputId": "bc9eabfc-d4db-444e-ae4a-2d5273e9cbc6"
      },
      "source": [
        "#This mounts your Google Drive and the filesystem is available to you at /content/drive/My Drive/\n",
        "#Asks for an authorization, allow it and paste the code.\n",
        "from google.colab import drive\n",
        "drive.mount('/content/drive')\n",
        "\n",
        "#Open the file and read contents, store it in a string called contents\n",
        "import os\n",
        "gdrive_path = \"/content/drive/My Drive/Colab Notebooks/Week8/\"\n",
        "file = \"cric_data-200320-181217.tsv\"\n",
        "full_filename = os.path.join(gdrive_path,filename)\n"
      ],
      "execution_count": 9,
      "outputs": [
        {
          "output_type": "stream",
          "text": [
            "Drive already mounted at /content/drive; to attempt to forcibly remount, call drive.mount(\"/content/drive\", force_remount=True).\n"
          ],
          "name": "stdout"
        }
      ]
    },
    {
      "cell_type": "code",
      "metadata": {
        "id": "Uz-abeHg9dYQ",
        "colab_type": "code",
        "colab": {
          "base_uri": "https://localhost:8080/",
          "height": 34
        },
        "outputId": "14605312-6425-490c-e1d0-093f1a3714c5"
      },
      "source": [
        "scores = np.loadtxt(full_filename,skiprows=1, usecols=(1,2,3))\n",
        "shape_scores = scores.shape\n",
        "shape_scores"
      ],
      "execution_count": 34,
      "outputs": [
        {
          "output_type": "execute_result",
          "data": {
            "text/plain": [
              "(225, 3)"
            ]
          },
          "metadata": {
            "tags": []
          },
          "execution_count": 34
        }
      ]
    },
    {
      "cell_type": "code",
      "metadata": {
        "id": "gAkLjAHSCXAh",
        "colab_type": "code",
        "colab": {
          "base_uri": "https://localhost:8080/",
          "height": 34
        },
        "outputId": "db844c4a-5f70-4736-9fd5-440805aa8c8a"
      },
      "source": [
        "#1. Find mean, median, IQR for Sachin, Rahul and India\n",
        "means = np.mean(scores, axis = 0)\n",
        "meadians = np.median(scores, axis=0)\n",
        "percentiles = np.percentile(scores,(25,75),axis=0)\n",
        "iqr = percentiles[1] - percentiles[0]\n",
        "iqr"
      ],
      "execution_count": 41,
      "outputs": [
        {
          "output_type": "execute_result",
          "data": {
            "text/plain": [
              "array([57., 46., 98.])"
            ]
          },
          "metadata": {
            "tags": []
          },
          "execution_count": 41
        }
      ]
    }
  ]
}