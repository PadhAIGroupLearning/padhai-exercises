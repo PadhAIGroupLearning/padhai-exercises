{
  "nbformat": 4,
  "nbformat_minor": 0,
  "metadata": {
    "colab": {
      "name": "Wk8_Numpy.ipynb",
      "provenance": [],
      "collapsed_sections": [],
      "toc_visible": true,
      "authorship_tag": "ABX9TyPIZ8+fJusb71dOJ1dWRqPZ",
      "include_colab_link": true
    },
    "kernelspec": {
      "name": "python3",
      "display_name": "Python 3"
    }
  },
  "cells": [
    {
      "cell_type": "markdown",
      "metadata": {
        "id": "view-in-github",
        "colab_type": "text"
      },
      "source": [
        "<a href=\"https://colab.research.google.com/github/PadhAIGroupLearning/padhai-exercises/blob/master/Week8/Wk8_Numpy.ipynb\" target=\"_parent\"><img src=\"https://colab.research.google.com/assets/colab-badge.svg\" alt=\"Open In Colab\"/></a>"
      ]
    },
    {
      "cell_type": "markdown",
      "metadata": {
        "id": "bjgThzomArwD",
        "colab_type": "text"
      },
      "source": [
        "#Compute area outside circle"
      ]
    },
    {
      "cell_type": "code",
      "metadata": {
        "id": "atY751kIzM_1",
        "colab_type": "code",
        "colab": {}
      },
      "source": [
        "import numpy as np"
      ],
      "execution_count": 0,
      "outputs": []
    },
    {
      "cell_type": "code",
      "metadata": {
        "id": "Bq6g_-_v67dH",
        "colab_type": "code",
        "colab": {}
      },
      "source": [
        "def fract_outside_circle(npoints,ndim):\n",
        "    points_in_square = np.random.rand(npoints,ndim)\n",
        "    return np.sum(np.sqrt(np.sum((points_in_square * points_in_square),axis=1))>1)/npoints"
      ],
      "execution_count": 0,
      "outputs": []
    },
    {
      "cell_type": "code",
      "metadata": {
        "id": "1hULquy38UB6",
        "colab_type": "code",
        "colab": {}
      },
      "source": [
        "nPoints = 10**6\n",
        "for nDim in range(2,11):\n",
        "    x = fract_outside_circle(nPoints, nDim)\n",
        "    print(x)"
      ],
      "execution_count": 0,
      "outputs": []
    },
    {
      "cell_type": "markdown",
      "metadata": {
        "id": "7wUnXJ4c9SMp",
        "colab_type": "text"
      },
      "source": [
        "#Exercise on Cricket\n",
        "\n",
        "1. Find mean, median, IQR for Sachin, Rahul and India\n",
        "2. Find the histogram of Sachin's scores with 10 bins\n",
        "3. Find mean of Sachin's scores grouped by 25 matches\n",
        "4. Find mean of Sachin's scores where he has scored a century\n",
        "5. Find mean of Sachin's scores when Rahul has scored less than 10 \n",
        "6. Find mean for Sachin's scores based on which quartile India's score falls in\n",
        "7. For every match find out who has scored more - Sachin or Rahul\n",
        "8. How many more runs does Sachin score on average after having scored x runs\n",
        "9. How many matches did Sachin take to score first 1000, next 1000 ..."
      ]
    },
    {
      "cell_type": "code",
      "metadata": {
        "id": "AYaWILyaD_Ve",
        "colab_type": "code",
        "colab": {}
      },
      "source": [
        "#Test array to try out different stat operations\n",
        "arr2d = np.random.randint(1,10,(5,3))\n",
        "means = np.mean(arr2d,axis=0)\n",
        "print(arr2d)\n",
        "a = arr2d[:, 0]\n",
        "print(np.size(a))\n"
      ],
      "execution_count": 0,
      "outputs": []
    },
    {
      "cell_type": "code",
      "metadata": {
        "id": "imy1RxXk9WC8",
        "colab_type": "code",
        "colab": {
          "base_uri": "https://localhost:8080/",
          "height": 123
        },
        "outputId": "4e10062e-8c69-4f2c-b801-4e4fde9ed442"
      },
      "source": [
        "#This mounts your Google Drive and the filesystem is available to you at /content/drive/My Drive/\n",
        "#Asks for an authorization, allow it and paste the code.\n",
        "from google.colab import drive\n",
        "drive.mount('/content/drive')\n",
        "\n",
        "#Open the file and read contents, store it in a string called contents\n",
        "import os\n",
        "gdrive_path = \"/content/drive/My Drive/Colab Notebooks/Week8/\"\n",
        "file = \"cric_data-200320-181217.tsv\"\n",
        "full_filename = os.path.join(gdrive_path,file)\n"
      ],
      "execution_count": 2,
      "outputs": [
        {
          "output_type": "stream",
          "text": [
            "Go to this URL in a browser: https://accounts.google.com/o/oauth2/auth?client_id=947318989803-6bn6qk8qdgf4n4g3pfee6491hc0brc4i.apps.googleusercontent.com&redirect_uri=urn%3aietf%3awg%3aoauth%3a2.0%3aoob&response_type=code&scope=email%20https%3a%2f%2fwww.googleapis.com%2fauth%2fdocs.test%20https%3a%2f%2fwww.googleapis.com%2fauth%2fdrive%20https%3a%2f%2fwww.googleapis.com%2fauth%2fdrive.photos.readonly%20https%3a%2f%2fwww.googleapis.com%2fauth%2fpeopleapi.readonly\n",
            "\n",
            "Enter your authorization code:\n",
            "··········\n",
            "Mounted at /content/drive\n"
          ],
          "name": "stdout"
        }
      ]
    },
    {
      "cell_type": "code",
      "metadata": {
        "id": "Uz-abeHg9dYQ",
        "colab_type": "code",
        "colab": {}
      },
      "source": [
        "scores = np.loadtxt(full_filename,skiprows=1, usecols=(1,2,3))\n",
        "shape_scores = scores.shape"
      ],
      "execution_count": 0,
      "outputs": []
    },
    {
      "cell_type": "code",
      "metadata": {
        "id": "gAkLjAHSCXAh",
        "colab_type": "code",
        "outputId": "c8618b15-ee92-4233-ffc7-670924781a0b",
        "colab": {
          "base_uri": "https://localhost:8080/",
          "height": 69
        }
      },
      "source": [
        "#1. Find mean, median, IQR for Sachin, Rahul and India\n",
        "means = np.mean(scores, axis = 0)\n",
        "medians = np.median(scores, axis=0)\n",
        "percentiles = np.percentile(scores,(25,75),axis=0)\n",
        "iqr = percentiles[1] - percentiles[0]\n",
        "print(\"Mean of Sachin, Rahul and India is \", means)\n",
        "print(\"median of Sachin, Rahul and India is \", medians)\n",
        "print(\"IQR of Sachin, Rahul and India is\", iqr)"
      ],
      "execution_count": 4,
      "outputs": [
        {
          "output_type": "stream",
          "text": [
            "Mean of Sachin, Rahul and India is  [ 39.87555556  32.06222222 220.79555556]\n",
            "median of Sachin, Rahul and India is  [ 27.  22. 216.]\n",
            "IQR of Sachin, Rahul and India is [57. 46. 98.]\n"
          ],
          "name": "stdout"
        }
      ]
    },
    {
      "cell_type": "code",
      "metadata": {
        "id": "I_Opjsst0xEg",
        "colab_type": "code",
        "outputId": "0ede6e25-b5d5-4995-a459-09b3a0a39706",
        "colab": {
          "base_uri": "https://localhost:8080/",
          "height": 51
        }
      },
      "source": [
        "#2. Find the histogram of Sachin's scores with 10 bins\n",
        "histo_sachin = np.histogram(scores[:,0],bins=10)\n",
        "print(histo_sachin)\n"
      ],
      "execution_count": 22,
      "outputs": [
        {
          "output_type": "stream",
          "text": [
            "(array([99, 36, 28, 16, 11, 17,  8,  8,  1,  1]), array([  0. ,  18.6,  37.2,  55.8,  74.4,  93. , 111.6, 130.2, 148.8,\n",
            "       167.4, 186. ]))\n"
          ],
          "name": "stdout"
        }
      ]
    },
    {
      "cell_type": "code",
      "metadata": {
        "id": "7X_mf8Tr4J99",
        "colab_type": "code",
        "outputId": "4d13e2bc-7616-4387-e32d-944099de53d9",
        "colab": {
          "base_uri": "https://localhost:8080/",
          "height": 34
        }
      },
      "source": [
        "#3. Find mean of Sachin's scores grouped by 25 matches\n",
        "score_sachin = scores[:, 0]\n",
        "sachin_group_by_25 = score_sachin.reshape(-1,25)\n",
        "means_group_by_25 = np.mean(sachin_group_by_25,axis=1)\n",
        "print(\"Sachins's mean in matches grouped by 25 are\", means_group_by_25)"
      ],
      "execution_count": 6,
      "outputs": [
        {
          "output_type": "stream",
          "text": [
            "Sachins's mean in matches grouped by 25 are [33.96 49.4  38.48 40.16 39.36 38.2  44.6  39.52 35.2 ]\n"
          ],
          "name": "stdout"
        }
      ]
    },
    {
      "cell_type": "code",
      "metadata": {
        "id": "YAUgDhNoDdpZ",
        "colab_type": "code",
        "outputId": "04c5adb5-d1ab-4e5f-fce9-fe7581652700",
        "colab": {
          "base_uri": "https://localhost:8080/",
          "height": 34
        }
      },
      "source": [
        "#4. Find mean of Sachin's scores where he has scored a century\n",
        "sachin_centuries_mean = np.mean(score_sachin[score_sachin>=100])\n",
        "print(\"Mean of Sachin's score where he has scored a century \",sachin_centuries_mean)"
      ],
      "execution_count": 7,
      "outputs": [
        {
          "output_type": "stream",
          "text": [
            "Mean of Sachin's score where he has scored a century  125.0\n"
          ],
          "name": "stdout"
        }
      ]
    },
    {
      "cell_type": "code",
      "metadata": {
        "id": "fiyfEDAsHGkg",
        "colab_type": "code",
        "outputId": "531d8f29-1b03-43a2-8a62-f19b85401c80",
        "colab": {
          "base_uri": "https://localhost:8080/",
          "height": 34
        }
      },
      "source": [
        "#5. Find mean of Sachin's scores when Rahul has scored less than 10\n",
        "score_rahul = scores[:, 1]\n",
        "rahul_lessthan10_indices = np.nonzero(score_rahul<10)\n",
        "print(\"Mean of Sachin's score when Rahuls has scored less than 10 is\", np.mean(score_sachin.take(rahul_lessthan10_indices)))\n"
      ],
      "execution_count": 8,
      "outputs": [
        {
          "output_type": "stream",
          "text": [
            "Mean of Sachin's score when Rahuls has scored less than 10 is 40.74285714285714\n"
          ],
          "name": "stdout"
        }
      ]
    },
    {
      "cell_type": "code",
      "metadata": {
        "id": "ScyG-PKrHJqB",
        "colab_type": "code",
        "outputId": "8455f917-d39f-4702-e04a-b121e3bda4e1",
        "colab": {
          "base_uri": "https://localhost:8080/",
          "height": 86
        }
      },
      "source": [
        "#6. Find mean for Sachin's scores based on which quartile India's score falls in\n",
        "#quartiles = np.percentile(scores,(25,50,75),axis=0)\n",
        "quartile = np.percentile(scores[:, 2], (25,50,75), axis = 0)\n",
        "\n",
        "scores_india = scores[:, 2]\n",
        "indices_india_q1 = np.nonzero(scores_india<quartile[0])\n",
        "indices_india_q2 = np.nonzero((scores_india>=quartile[0]) & (scores_india<quartile[1]))\n",
        "indices_india_q3 = np.nonzero((scores_india>=quartile[1]) & (scores_india<quartile[2]))\n",
        "indices_india_q4 = np.nonzero(scores_india>quartile[2])\n",
        "\n",
        "print(\"Mean of Sachin's score when India's score is in it's Q1\", np.mean(score_sachin.take(indices_india_q1)))\n",
        "print(\"Mean of Sachin's score when India's score is in it's Q2\", np.mean(score_sachin.take(indices_india_q2)))\n",
        "print(\"Mean of Sachin's score when India's score is in it's Q3\", np.mean(score_sachin.take(indices_india_q3)))\n",
        "print(\"Mean of Sachin's score when India's score is in it's Q4\", np.mean(score_sachin.take(indices_india_q4)))"
      ],
      "execution_count": 9,
      "outputs": [
        {
          "output_type": "stream",
          "text": [
            "Mean of Sachin's score when India's score is in it's Q1 19.672727272727272\n",
            "Mean of Sachin's score when India's score is in it's Q2 36.535714285714285\n",
            "Mean of Sachin's score when India's score is in it's Q3 38.642857142857146\n",
            "Mean of Sachin's score when India's score is in it's Q4 63.375\n"
          ],
          "name": "stdout"
        }
      ]
    },
    {
      "cell_type": "code",
      "metadata": {
        "id": "QZCugmWPHNdQ",
        "colab_type": "code",
        "outputId": "5cf7db9e-66fe-41d7-b283-ee8c641ecbfc",
        "colab": {
          "base_uri": "https://localhost:8080/",
          "height": 362
        }
      },
      "source": [
        "#7. For every match find out who has scored more - Sachin or Rahul\n",
        "print(\"Matches where Sachins has score more than Rahul\\n\", scores[:, 0] > scores[:,1])\n"
      ],
      "execution_count": 10,
      "outputs": [
        {
          "output_type": "stream",
          "text": [
            "Matches where Sachins has score more than Rahul\n",
            " [ True False False  True  True False False  True False  True False False\n",
            " False  True  True False False False False False  True False  True  True\n",
            " False  True  True False  True  True  True  True False False  True False\n",
            " False  True False  True  True  True  True False  True False False  True\n",
            " False  True False False False False  True False  True  True False False\n",
            " False  True False  True  True  True  True False  True False False  True\n",
            "  True False False  True False False  True False False False False False\n",
            " False  True  True  True False  True  True  True False  True  True False\n",
            " False  True False  True False False False False False  True False False\n",
            "  True False False  True False  True False  True  True  True False  True\n",
            " False  True  True  True  True False  True False False  True  True False\n",
            "  True False  True  True  True False  True  True False False False  True\n",
            "  True  True  True False  True False  True  True  True  True False False\n",
            " False  True False  True False  True False  True  True False  True False\n",
            " False  True  True False  True  True  True  True False  True False False\n",
            "  True  True  True  True False False False  True False False False False\n",
            "  True False False  True False False  True False  True  True False False\n",
            "  True False False False  True  True  True False False  True False  True\n",
            " False False False False  True  True False  True  True]\n"
          ],
          "name": "stdout"
        }
      ]
    },
    {
      "cell_type": "code",
      "metadata": {
        "id": "YZS91KbWHP4P",
        "colab_type": "code",
        "colab": {
          "base_uri": "https://localhost:8080/",
          "height": 120
        },
        "outputId": "1a4816f4-827b-4427-8b2d-9c0340e4e7e2"
      },
      "source": [
        "#8. How many more runs does Sachin score on average after having scored x runs\n",
        "print(len(histo_sachin[1]))\n",
        "a = np.delete(histo_sachin[1], len(histo_sachin[1])-1)\n",
        "b = np.delete(histo_sachin[1],0)\n",
        "print(a)\n",
        "print(b)\n",
        "mean_histo = (a + b)/2\n",
        "print(mean_histo)\n",
        "\n",
        "current = input(\"Enter current score of sachin \")\n",
        "\n",
        "print(\"Sachin is expected to score\",int(mean_histo[mean_histo>int(current)][0]))\n",
        "\n"
      ],
      "execution_count": 40,
      "outputs": [
        {
          "output_type": "stream",
          "text": [
            "11\n",
            "[  0.   18.6  37.2  55.8  74.4  93.  111.6 130.2 148.8 167.4]\n",
            "[ 18.6  37.2  55.8  74.4  93.  111.6 130.2 148.8 167.4 186. ]\n",
            "[  9.3  27.9  46.5  65.1  83.7 102.3 120.9 139.5 158.1 176.7]\n",
            "Enter current score of sachin 70\n",
            "Sachin is expected to score 83\n"
          ],
          "name": "stdout"
        }
      ]
    },
    {
      "cell_type": "code",
      "metadata": {
        "id": "U51Tqy9-GCnc",
        "colab_type": "code",
        "colab": {
          "base_uri": "https://localhost:8080/",
          "height": 155
        },
        "outputId": "3fdf8f7c-b9c7-4140-eaf9-fb6a9dc2461f"
      },
      "source": [
        "#9. How many matches did Sachin take to score first 1000, next 1000 ...\n",
        "sachin_cumulative = np.cumsum(score_sachin)\n",
        "max =  int(np.max(sachin_cumulative)/1000)*1000\n",
        "i= 1000\n",
        "num_matches_for_every_1000 = []\n",
        "\n",
        "while(i <= max):\n",
        "    sachin_cumulative_rounded = np.argmax(sachin_cumulative>i)\n",
        "    i+=1000\n",
        "    num_matches_for_every_1000.append(sachin_cumulative_rounded)\n",
        "\n",
        "num = [\"First\", \"second\", \"third\", \"fourth\", \"fifth\", \"sixth\", \"seventh\", \"eighth\", \"ninghth\"]\n",
        "\n",
        "for i in range(len(num_matches_for_every_1000)):\n",
        "    if i == 0:\n",
        "        prev = 0\n",
        "    else:\n",
        "        prev =  num_matches_for_every_1000[i-1]\n",
        "    print(\"Sachin took \",num_matches_for_every_1000[i] - prev, \" matches to score the \", num[i], \"1000 runs\" )\n",
        "\n",
        "\n"
      ],
      "execution_count": 71,
      "outputs": [
        {
          "output_type": "stream",
          "text": [
            "Sachin took  29  matches to score the  First 1000 runs\n",
            "Sachin took  18  matches to score the  second 1000 runs\n",
            "Sachin took  26  matches to score the  third 1000 runs\n",
            "Sachin took  25  matches to score the  fourth 1000 runs\n",
            "Sachin took  26  matches to score the  fifth 1000 runs\n",
            "Sachin took  26  matches to score the  sixth 1000 runs\n",
            "Sachin took  23  matches to score the  seventh 1000 runs\n",
            "Sachin took  22  matches to score the  eighth 1000 runs\n"
          ],
          "name": "stdout"
        }
      ]
    }
  ]
}