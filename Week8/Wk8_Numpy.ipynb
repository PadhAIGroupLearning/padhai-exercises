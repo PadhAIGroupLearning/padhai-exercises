{
  "nbformat": 4,
  "nbformat_minor": 0,
  "metadata": {
    "colab": {
      "name": "Wk8_Numpy.ipynb",
      "provenance": [],
      "collapsed_sections": [],
      "authorship_tag": "ABX9TyNEoV0OX//EeNd64rFe0u8A",
      "include_colab_link": true
    },
    "kernelspec": {
      "name": "python3",
      "display_name": "Python 3"
    }
  },
  "cells": [
    {
      "cell_type": "markdown",
      "metadata": {
        "id": "view-in-github",
        "colab_type": "text"
      },
      "source": [
        "<a href=\"https://colab.research.google.com/github/PadhAIGroupLearning/padhai-exercises/blob/master/Week8/Wk8_Numpy.ipynb\" target=\"_parent\"><img src=\"https://colab.research.google.com/assets/colab-badge.svg\" alt=\"Open In Colab\"/></a>"
      ]
    },
    {
      "cell_type": "markdown",
      "metadata": {
        "id": "bjgThzomArwD",
        "colab_type": "text"
      },
      "source": [
        "#Compute area outside circle"
      ]
    },
    {
      "cell_type": "code",
      "metadata": {
        "id": "atY751kIzM_1",
        "colab_type": "code",
        "colab": {}
      },
      "source": [
        "import numpy as np"
      ],
      "execution_count": 0,
      "outputs": []
    },
    {
      "cell_type": "code",
      "metadata": {
        "id": "Bq6g_-_v67dH",
        "colab_type": "code",
        "colab": {}
      },
      "source": [
        "def fract_outside_circle(npoints,ndim):\n",
        "    points_in_square = np.random.rand(npoints,ndim)\n",
        "    return np.sum(np.sqrt(np.sum((points_in_square * points_in_square),axis=1))>1)/npoints"
      ],
      "execution_count": 0,
      "outputs": []
    },
    {
      "cell_type": "code",
      "metadata": {
        "id": "1hULquy38UB6",
        "colab_type": "code",
        "colab": {}
      },
      "source": [
        "for i in range(2,11):\n",
        "    x = fract_outside_circle(10**6,i)\n",
        "    print(x)"
      ],
      "execution_count": 0,
      "outputs": []
    }
  ]
}