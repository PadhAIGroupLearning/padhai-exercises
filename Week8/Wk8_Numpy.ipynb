{
  "nbformat": 4,
  "nbformat_minor": 0,
  "metadata": {
    "colab": {
      "name": "Wk8_Numpy.ipynb",
      "provenance": [],
      "collapsed_sections": [],
      "toc_visible": true,
      "authorship_tag": "ABX9TyONBUZSjh+bHhnt353fRqSW",
      "include_colab_link": true
    },
    "kernelspec": {
      "name": "python3",
      "display_name": "Python 3"
    }
  },
  "cells": [
    {
      "cell_type": "markdown",
      "metadata": {
        "id": "view-in-github",
        "colab_type": "text"
      },
      "source": [
        "<a href=\"https://colab.research.google.com/github/PadhAIGroupLearning/padhai-exercises/blob/master/Week8/Wk8_Numpy.ipynb\" target=\"_parent\"><img src=\"https://colab.research.google.com/assets/colab-badge.svg\" alt=\"Open In Colab\"/></a>"
      ]
    },
    {
      "cell_type": "markdown",
      "metadata": {
        "id": "bjgThzomArwD",
        "colab_type": "text"
      },
      "source": [
        "#Compute area outside circle"
      ]
    },
    {
      "cell_type": "code",
      "metadata": {
        "id": "atY751kIzM_1",
        "colab_type": "code",
        "colab": {}
      },
      "source": [
        "import numpy as np"
      ],
      "execution_count": 0,
      "outputs": []
    },
    {
      "cell_type": "code",
      "metadata": {
        "id": "Bq6g_-_v67dH",
        "colab_type": "code",
        "colab": {}
      },
      "source": [
        "def fract_outside_circle(npoints,ndim):\n",
        "    points_in_square = np.random.rand(npoints,ndim)\n",
        "    return np.sum(np.sqrt(np.sum((points_in_square * points_in_square),axis=1))>1)/npoints"
      ],
      "execution_count": 0,
      "outputs": []
    },
    {
      "cell_type": "code",
      "metadata": {
        "id": "1hULquy38UB6",
        "colab_type": "code",
        "colab": {}
      },
      "source": [
        "nPoints = 10**6\n",
        "for nDim in range(2,11):\n",
        "    x = fract_outside_circle(nPoints, nDim)\n",
        "    print(x)"
      ],
      "execution_count": 0,
      "outputs": []
    },
    {
      "cell_type": "markdown",
      "metadata": {
        "id": "7wUnXJ4c9SMp",
        "colab_type": "text"
      },
      "source": [
        "#Exercise on Cricket\n",
        "\n",
        "1. Find mean, median, IQR for Sachin, Rahul and India\n",
        "2. Find the histogram of Sachin's scores with 10 bins\n",
        "3. Find mean of Sachin's scores grouped by 25 matches\n",
        "4. Find mean of Sachin's scores where he has scored a century\n",
        "5. Find mean of Sachin's scores when Rahul has scored less than 10 \n",
        "6. Find mean for Sachin's scores based on which quartile India's score falls in\n",
        "7. For every match find out who has scored more - Sachin or Rahul\n",
        "8. How many more runs does Sachin score on average after having scored x runs"
      ]
    },
    {
      "cell_type": "code",
      "metadata": {
        "id": "AYaWILyaD_Ve",
        "colab_type": "code",
        "colab": {}
      },
      "source": [
        "#Test array to try out different stat operations\n",
        "arr2d = np.random.randint(1,10,(5,3))\n",
        "means = np.mean(arr2d,axis=0)\n",
        "print(arr2d)\n",
        "a = arr2d[:, 0]\n",
        "print(np.size(a))\n"
      ],
      "execution_count": 0,
      "outputs": []
    },
    {
      "cell_type": "code",
      "metadata": {
        "id": "imy1RxXk9WC8",
        "colab_type": "code",
        "colab": {}
      },
      "source": [
        "#This mounts your Google Drive and the filesystem is available to you at /content/drive/My Drive/\n",
        "#Asks for an authorization, allow it and paste the code.\n",
        "from google.colab import drive\n",
        "drive.mount('/content/drive')\n",
        "\n",
        "#Open the file and read contents, store it in a string called contents\n",
        "import os\n",
        "gdrive_path = \"/content/drive/My Drive/Colab Notebooks/Week8/\"\n",
        "file = \"cric_data-200320-181217.tsv\"\n",
        "full_filename = os.path.join(gdrive_path,file)\n"
      ],
      "execution_count": 0,
      "outputs": []
    },
    {
      "cell_type": "code",
      "metadata": {
        "id": "Uz-abeHg9dYQ",
        "colab_type": "code",
        "colab": {}
      },
      "source": [
        "scores = np.loadtxt(full_filename,skiprows=1, usecols=(1,2,3))\n",
        "shape_scores = scores.shape\n",
        "shape_scores"
      ],
      "execution_count": 0,
      "outputs": []
    },
    {
      "cell_type": "code",
      "metadata": {
        "id": "gAkLjAHSCXAh",
        "colab_type": "code",
        "outputId": "1a59cb66-b385-4d35-b403-df11e8a92695",
        "colab": {
          "base_uri": "https://localhost:8080/",
          "height": 69
        }
      },
      "source": [
        "#1. Find mean, median, IQR for Sachin, Rahul and India\n",
        "means = np.mean(scores, axis = 0)\n",
        "medians = np.median(scores, axis=0)\n",
        "percentiles = np.percentile(scores,(25,75),axis=0)\n",
        "iqr = percentiles[1] - percentiles[0]\n",
        "print(\"Mean of Sachin, Rahul and India is \", means)\n",
        "print(\"median of Sachin, Rahul and India is \", medians)\n",
        "print(\"IQR of Sachin, Rahul and India is\", iqr)"
      ],
      "execution_count": 57,
      "outputs": [
        {
          "output_type": "stream",
          "text": [
            "Mean of Sachin, Rahul and India is  [ 39.87555556  32.06222222 220.79555556]\n",
            "median of Sachin, Rahul and India is  [ 27.  22. 216.]\n",
            "IQR of Sachin, Rahul and India is [57. 46. 98.]\n"
          ],
          "name": "stdout"
        }
      ]
    },
    {
      "cell_type": "code",
      "metadata": {
        "id": "I_Opjsst0xEg",
        "colab_type": "code",
        "colab": {
          "base_uri": "https://localhost:8080/",
          "height": 51
        },
        "outputId": "c0dcf01d-4ae4-4a49-bd54-28b4d0e783f8"
      },
      "source": [
        "#2. Find the histogram of Sachin's scores with 10 bins\n",
        "histo_sachin = np.histogram(scores[:,0],bins=10)\n",
        "print(histo_sachin)\n"
      ],
      "execution_count": 58,
      "outputs": [
        {
          "output_type": "stream",
          "text": [
            "(array([99, 36, 28, 16, 11, 17,  8,  8,  1,  1]), array([  0. ,  18.6,  37.2,  55.8,  74.4,  93. , 111.6, 130.2, 148.8,\n",
            "       167.4, 186. ]))\n"
          ],
          "name": "stdout"
        }
      ]
    },
    {
      "cell_type": "code",
      "metadata": {
        "id": "7X_mf8Tr4J99",
        "colab_type": "code",
        "colab": {
          "base_uri": "https://localhost:8080/",
          "height": 34
        },
        "outputId": "2b786624-1780-4a44-c0db-947fdec772cb"
      },
      "source": [
        "#3. Find mean of Sachin's scores grouped by 25 matches\n",
        "score_sachin = scores[:, 0]\n",
        "sachin_group_by_25 = score_sachin.reshape(-1,25)\n",
        "means_group_by_25 = np.mean(sachin_group_by_25,axis=1)\n",
        "print(\"Sachins's mean in matches grouped by 25 are\", means_group_by_25)"
      ],
      "execution_count": 59,
      "outputs": [
        {
          "output_type": "stream",
          "text": [
            "Sachins's mean in matches grouped by 25 are [33.96 49.4  38.48 40.16 39.36 38.2  44.6  39.52 35.2 ]\n"
          ],
          "name": "stdout"
        }
      ]
    },
    {
      "cell_type": "code",
      "metadata": {
        "id": "YAUgDhNoDdpZ",
        "colab_type": "code",
        "colab": {
          "base_uri": "https://localhost:8080/",
          "height": 34
        },
        "outputId": "68b23471-0b34-479f-e9df-ffce0b5c9c32"
      },
      "source": [
        "#4. Find mean of Sachin's scores where he has scored a century\n",
        "sachin_centuries_mean = np.mean(score_sachin[score_sachin>=100])\n",
        "print(\"Mean of Sachin's score where he has scored a century \",sachin_centuries_mean)"
      ],
      "execution_count": 60,
      "outputs": [
        {
          "output_type": "stream",
          "text": [
            "Mean of Sachin's score where he has scored a century  125.0\n"
          ],
          "name": "stdout"
        }
      ]
    },
    {
      "cell_type": "code",
      "metadata": {
        "id": "fiyfEDAsHGkg",
        "colab_type": "code",
        "colab": {
          "base_uri": "https://localhost:8080/",
          "height": 34
        },
        "outputId": "969fb696-483f-4a60-c5d0-e5d64083b3f8"
      },
      "source": [
        "#5. Find mean of Sachin's scores when Rahul has scored less than 10\n",
        "score_rahul = scores[:, 1]\n",
        "rahul_lessthan10_indices = np.nonzero(score_rahul<10)\n",
        "print(\"Mean of Sachin's score when Rahuls has scored less than 10 is\", np.mean(score_sachin.take(rahul_lessthan10_indices)))\n"
      ],
      "execution_count": 61,
      "outputs": [
        {
          "output_type": "stream",
          "text": [
            "Mean of Sachin's score when Rahuls has scored less than 10 is 40.74285714285714\n"
          ],
          "name": "stdout"
        }
      ]
    },
    {
      "cell_type": "code",
      "metadata": {
        "id": "ScyG-PKrHJqB",
        "colab_type": "code",
        "colab": {
          "base_uri": "https://localhost:8080/",
          "height": 86
        },
        "outputId": "ce5f2ded-25c9-43ef-e91b-37db251d9eca"
      },
      "source": [
        "#6. Find mean for Sachin's scores based on which quartile India's score falls in\n",
        "#quartiles = np.percentile(scores,(25,50,75),axis=0)\n",
        "quartile = np.percentile(scores[:, 2], (25,50,75), axis = 0)\n",
        "\n",
        "scores_india = scores[:, 2]\n",
        "indices_india_q1 = np.nonzero(scores_india<quartile[0])\n",
        "indices_india_q2 = np.nonzero((scores_india>=quartile[0]) & (scores_india<quartile[1]))\n",
        "indices_india_q3 = np.nonzero((scores_india>=quartile[1]) & (scores_india<quartile[2]))\n",
        "indices_india_q4 = np.nonzero(scores_india>quartile[2])\n",
        "\n",
        "print(\"Mean of Sachin's score when India's score is in it's Q1\", np.mean(score_sachin.take(indices_india_q1)))\n",
        "print(\"Mean of Sachin's score when India's score is in it's Q2\", np.mean(score_sachin.take(indices_india_q2)))\n",
        "print(\"Mean of Sachin's score when India's score is in it's Q3\", np.mean(score_sachin.take(indices_india_q3)))\n",
        "print(\"Mean of Sachin's score when India's score is in it's Q4\", np.mean(score_sachin.take(indices_india_q4)))"
      ],
      "execution_count": 62,
      "outputs": [
        {
          "output_type": "stream",
          "text": [
            "Mean of Sachin's score when India's score is in it's Q1 19.672727272727272\n",
            "Mean of Sachin's score when India's score is in it's Q2 36.535714285714285\n",
            "Mean of Sachin's score when India's score is in it's Q3 38.642857142857146\n",
            "Mean of Sachin's score when India's score is in it's Q4 63.375\n"
          ],
          "name": "stdout"
        }
      ]
    },
    {
      "cell_type": "code",
      "metadata": {
        "id": "QZCugmWPHNdQ",
        "colab_type": "code",
        "colab": {}
      },
      "source": [
        "#7. For every match find out who has scored more - Sachin or Rahul\n"
      ],
      "execution_count": 0,
      "outputs": []
    },
    {
      "cell_type": "code",
      "metadata": {
        "id": "YZS91KbWHP4P",
        "colab_type": "code",
        "colab": {}
      },
      "source": [
        "#8. How many more runs does Sachin score on average after having scored x runs"
      ],
      "execution_count": 0,
      "outputs": []
    }
  ]
}