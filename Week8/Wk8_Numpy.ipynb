{
  "nbformat": 4,
  "nbformat_minor": 0,
  "metadata": {
    "colab": {
      "name": "Wk8_Numpy.ipynb",
      "provenance": [],
      "collapsed_sections": [],
      "authorship_tag": "ABX9TyNtHviZiEOWaSxQU/d0kEPZ",
      "include_colab_link": true
    },
    "kernelspec": {
      "name": "python3",
      "display_name": "Python 3"
    }
  },
  "cells": [
    {
      "cell_type": "markdown",
      "metadata": {
        "id": "view-in-github",
        "colab_type": "text"
      },
      "source": [
        "<a href=\"https://colab.research.google.com/github/PadhAIGroupLearning/padhai-exercises/blob/master/Week8/Wk8_Numpy.ipynb\" target=\"_parent\"><img src=\"https://colab.research.google.com/assets/colab-badge.svg\" alt=\"Open In Colab\"/></a>"
      ]
    },
    {
      "cell_type": "code",
      "metadata": {
        "id": "atY751kIzM_1",
        "colab_type": "code",
        "colab": {}
      },
      "source": [
        "import numpy as np"
      ],
      "execution_count": 0,
      "outputs": []
    },
    {
      "cell_type": "code",
      "metadata": {
        "id": "NsyeTJMDjn6P",
        "colab_type": "code",
        "colab": {}
      },
      "source": [
        "total_points = 10**8"
      ],
      "execution_count": 0,
      "outputs": []
    },
    {
      "cell_type": "code",
      "metadata": {
        "id": "c0ZWkgvCjsY1",
        "colab_type": "code",
        "colab": {}
      },
      "source": [
        "points_in_square = np.random.rand(total_points,2)"
      ],
      "execution_count": 0,
      "outputs": []
    },
    {
      "cell_type": "code",
      "metadata": {
        "id": "Ioxg1g9kvCOf",
        "colab_type": "code",
        "colab": {}
      },
      "source": [
        "#Numpy based, slicing and square, square root func used\n",
        "#%%timeit\n",
        "dist_from_origin = np.sqrt(np.square(points_in_square[:,0]) + np.square(points_in_square[:,1]))\n"
      ],
      "execution_count": 0,
      "outputs": []
    },
    {
      "cell_type": "code",
      "metadata": {
        "id": "Tq10d2biv2Q5",
        "colab_type": "code",
        "colab": {
          "base_uri": "https://localhost:8080/",
          "height": 34
        },
        "outputId": "4faeaa6f-63e2-4816-8479-318842feee88"
      },
      "source": [
        "#fraction of outside circle = count of points outside / total points\n",
        "fract_pts_outside = len(dist_from_origin[dist_from_origin>1]) / len(dist_from_origin)\n",
        "fract_pts_outside\n"
      ],
      "execution_count": 85,
      "outputs": [
        {
          "output_type": "execute_result",
          "data": {
            "text/plain": [
              "0.21455589"
            ]
          },
          "metadata": {
            "tags": []
          },
          "execution_count": 85
        }
      ]
    }
  ]
}