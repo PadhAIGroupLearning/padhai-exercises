{
  "nbformat": 4,
  "nbformat_minor": 0,
  "metadata": {
    "colab": {
      "name": "Wk8_Numpy.ipynb",
      "provenance": [],
      "collapsed_sections": [],
      "toc_visible": true,
      "authorship_tag": "ABX9TyNibmp4tcrHHD5rLbMTLffK",
      "include_colab_link": true
    },
    "kernelspec": {
      "name": "python3",
      "display_name": "Python 3"
    }
  },
  "cells": [
    {
      "cell_type": "markdown",
      "metadata": {
        "id": "view-in-github",
        "colab_type": "text"
      },
      "source": [
        "<a href=\"https://colab.research.google.com/github/PadhAIGroupLearning/padhai-exercises/blob/master/Week8/Wk8_Numpy.ipynb\" target=\"_parent\"><img src=\"https://colab.research.google.com/assets/colab-badge.svg\" alt=\"Open In Colab\"/></a>"
      ]
    },
    {
      "cell_type": "markdown",
      "metadata": {
        "id": "bjgThzomArwD",
        "colab_type": "text"
      },
      "source": [
        "#Compute area outside circle"
      ]
    },
    {
      "cell_type": "code",
      "metadata": {
        "id": "atY751kIzM_1",
        "colab_type": "code",
        "colab": {}
      },
      "source": [
        "import numpy as np"
      ],
      "execution_count": 0,
      "outputs": []
    },
    {
      "cell_type": "code",
      "metadata": {
        "id": "Bq6g_-_v67dH",
        "colab_type": "code",
        "colab": {}
      },
      "source": [
        "def fract_outside_circle(npoints,ndim):\n",
        "    points_in_square = np.random.rand(npoints,ndim)\n",
        "    return np.sum(np.sqrt(np.sum((points_in_square * points_in_square),axis=1))>1)/npoints"
      ],
      "execution_count": 0,
      "outputs": []
    },
    {
      "cell_type": "code",
      "metadata": {
        "id": "1hULquy38UB6",
        "colab_type": "code",
        "colab": {}
      },
      "source": [
        "nPoints = 10**6\n",
        "for nDim in range(2,11):\n",
        "    x = fract_outside_circle(nPoints, nDim)\n",
        "    print(x)"
      ],
      "execution_count": 0,
      "outputs": []
    },
    {
      "cell_type": "markdown",
      "metadata": {
        "id": "7wUnXJ4c9SMp",
        "colab_type": "text"
      },
      "source": [
        "#Exercise on Cricket\n",
        "\n",
        "1. Find mean, median, IQR for Sachin, Rahul and India\n",
        "2. Find the histogram of Sachin's scores with 10 bins\n",
        "3. Find mean of Sachin's scores grouped by 25 matches\n",
        "4. Find mean of Sachin's scores where he has scored a century\n",
        "5. Find mean of Sachin's scores when Rahul has scored less than 10 \n",
        "6. Find mean for Sachin's scores based on which quartile India's score falls in\n",
        "7. For every match find out who has scored more - Sachin or Rahul\n",
        "8. How many more runs does Sachin score on average after having scored x runs"
      ]
    },
    {
      "cell_type": "code",
      "metadata": {
        "id": "AYaWILyaD_Ve",
        "colab_type": "code",
        "colab": {}
      },
      "source": [
        "#Test array to try out different stat operations\n",
        "arr2d = np.random.randint(1,10,(5,3))\n",
        "means = np.mean(arr2d,axis=0)\n",
        "print(arr2d)\n",
        "a = arr2d[:, 0]\n",
        "print(np.size(a))\n"
      ],
      "execution_count": 0,
      "outputs": []
    },
    {
      "cell_type": "code",
      "metadata": {
        "id": "imy1RxXk9WC8",
        "colab_type": "code",
        "colab": {}
      },
      "source": [
        "#This mounts your Google Drive and the filesystem is available to you at /content/drive/My Drive/\n",
        "#Asks for an authorization, allow it and paste the code.\n",
        "from google.colab import drive\n",
        "drive.mount('/content/drive')\n",
        "\n",
        "#Open the file and read contents, store it in a string called contents\n",
        "import os\n",
        "gdrive_path = \"/content/drive/My Drive/Colab Notebooks/Week8/\"\n",
        "file = \"cric_data-200320-181217.tsv\"\n",
        "full_filename = os.path.join(gdrive_path,file)\n"
      ],
      "execution_count": 0,
      "outputs": []
    },
    {
      "cell_type": "code",
      "metadata": {
        "id": "Uz-abeHg9dYQ",
        "colab_type": "code",
        "colab": {}
      },
      "source": [
        "scores = np.loadtxt(full_filename,skiprows=1, usecols=(1,2,3))\n",
        "shape_scores = scores.shape\n",
        "shape_scores"
      ],
      "execution_count": 0,
      "outputs": []
    },
    {
      "cell_type": "code",
      "metadata": {
        "id": "gAkLjAHSCXAh",
        "colab_type": "code",
        "colab": {}
      },
      "source": [
        "#1. Find mean, median, IQR for Sachin, Rahul and India\n",
        "means = np.mean(scores, axis = 0)\n",
        "medians = np.median(scores, axis=0)\n",
        "percentiles = np.percentile(scores,(25,75),axis=0)\n",
        "iqr = percentiles[1] - percentiles[0]\n",
        "print(\"Mean of Sachin, Rahul and India is \", means)\n",
        "print(\"median of Sachin, Rahul and India is \", medians)\n",
        "print(\"IQR of Sachin, Rahul and India is\", iqr)"
      ],
      "execution_count": 0,
      "outputs": []
    },
    {
      "cell_type": "code",
      "metadata": {
        "id": "I_Opjsst0xEg",
        "colab_type": "code",
        "colab": {}
      },
      "source": [
        "#2. Find the histogram of Sachin's scores with 10 bins\n",
        "histo_sachin = np.histogram(scores[:,0],bins=10)\n",
        "print(histo_sachin)\n"
      ],
      "execution_count": 0,
      "outputs": []
    },
    {
      "cell_type": "code",
      "metadata": {
        "id": "7X_mf8Tr4J99",
        "colab_type": "code",
        "colab": {
          "base_uri": "https://localhost:8080/",
          "height": 34
        },
        "outputId": "77bbe2d1-0364-4c5d-b2fe-bb5020b5a1bc"
      },
      "source": [
        "#3. Find mean of Sachin's scores grouped by 25 matches\n",
        "score_sachin = scores[:, 0]\n",
        "sachin_group_by_25 = score_sachin.reshape(-1,25)\n",
        "means_group_by_25 = np.mean(sachin_group_by_25,axis=1)\n",
        "print(\"Sachins's mean in matches grouped by 25 are\", means_group_by_25)"
      ],
      "execution_count": 40,
      "outputs": [
        {
          "output_type": "stream",
          "text": [
            "Sachins's mean in matches grouped by 25 are [33.96 49.4  38.48 40.16 39.36 38.2  44.6  39.52 35.2 ]\n"
          ],
          "name": "stdout"
        }
      ]
    },
    {
      "cell_type": "code",
      "metadata": {
        "id": "YAUgDhNoDdpZ",
        "colab_type": "code",
        "colab": {}
      },
      "source": [
        "#4. Find mean of Sachin's scores where he has scored a century\n",
        "sachin_centuries_mean = np.mean(score_sachin[score_sachin>=100])\n",
        "print(\"Mean of Sachin's score where he has scored a century \",sachin_centuries_mean)"
      ],
      "execution_count": 0,
      "outputs": []
    },
    {
      "cell_type": "code",
      "metadata": {
        "id": "fiyfEDAsHGkg",
        "colab_type": "code",
        "colab": {
          "base_uri": "https://localhost:8080/",
          "height": 34
        },
        "outputId": "be61bfef-60ad-4436-d3eb-caf9c24aac0c"
      },
      "source": [
        "#5. Find mean of Sachin's scores when Rahul has scored less than 10\n",
        "score_rahul = scores[:, 1]\n",
        "rahul_lessthan10_indices = np.nonzero(score_rahul<10)\n",
        "print(\"Mean of Sachin's score when Rahuls has scored less than 10 is\", np.mean(score_sachin.take(rahul_lessthan10_indices)))\n"
      ],
      "execution_count": 43,
      "outputs": [
        {
          "output_type": "stream",
          "text": [
            "Mean of Sachin's score when Rahuls has scored less than 10 is 40.74285714285714\n"
          ],
          "name": "stdout"
        }
      ]
    },
    {
      "cell_type": "code",
      "metadata": {
        "id": "ScyG-PKrHJqB",
        "colab_type": "code",
        "colab": {}
      },
      "source": [
        "#6. Find mean for Sachin's scores based on which quartile India's score falls in"
      ],
      "execution_count": 0,
      "outputs": []
    },
    {
      "cell_type": "code",
      "metadata": {
        "id": "QZCugmWPHNdQ",
        "colab_type": "code",
        "colab": {}
      },
      "source": [
        "#7. For every match find out who has scored more - Sachin or Rahul\n"
      ],
      "execution_count": 0,
      "outputs": []
    },
    {
      "cell_type": "code",
      "metadata": {
        "id": "YZS91KbWHP4P",
        "colab_type": "code",
        "colab": {}
      },
      "source": [
        "#8. How many more runs does Sachin score on average after having scored x runs"
      ],
      "execution_count": 0,
      "outputs": []
    }
  ]
}