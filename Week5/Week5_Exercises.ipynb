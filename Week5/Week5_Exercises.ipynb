{
  "nbformat": 4,
  "nbformat_minor": 0,
  "metadata": {
    "colab": {
      "name": "Week5-Exercises.ipynb",
      "provenance": [],
      "collapsed_sections": [],
      "authorship_tag": "ABX9TyPlfQZ4eQrQUOtPqgn1wgXg",
      "include_colab_link": true
    },
    "kernelspec": {
      "name": "python3",
      "display_name": "Python 3"
    }
  },
  "cells": [
    {
      "cell_type": "markdown",
      "metadata": {
        "id": "view-in-github",
        "colab_type": "text"
      },
      "source": [
        "<a href=\"https://colab.research.google.com/github/PadhAIGroupLearning/padhai-exercises/blob/master/Week5/Week5_Exercises.ipynb\" target=\"_parent\"><img src=\"https://colab.research.google.com/assets/colab-badge.svg\" alt=\"Open In Colab\"/></a>"
      ]
    },
    {
      "cell_type": "markdown",
      "metadata": {
        "id": "Hl6PFLnaS2BK",
        "colab_type": "text"
      },
      "source": [
        "This is shared notebook to solve the Week5 exercises."
      ]
    },
    {
      "cell_type": "markdown",
      "metadata": {
        "id": "1-0aESLFS8zG",
        "colab_type": "text"
      },
      "source": [
        "#Exercise for Lists:\n",
        "\n",
        "Given the following square matrix A\n",
        "$$ A = \\left[ \\begin{array}{cc} 1 & 1 \\\\ 1 & 0 \\end{array}\\right] $$\n",
        "compute the matrix $A^n$ obtained by multiplying $A$ to itself $n$ times.\n",
        "\n",
        "Can you comment on the left-top value in $A^n$ (What does this remind you of?)"
      ]
    },
    {
      "cell_type": "code",
      "metadata": {
        "id": "Tk3Ymt-MV2ei",
        "colab_type": "code",
        "colab": {}
      },
      "source": [
        "def isSquareMatrix(m):\n",
        "    '''\n",
        "    This functions multiplies matrix m onto itself n times.\n",
        "    '''\n",
        "    \n",
        "    isSquareMatrix = False\n",
        "    rows = len(m)\n",
        "    columns_in_each_row = [len(item) for item in m]\n",
        "    columns = columns_in_each_row[0] if (all(element == columns_in_each_row[0] for element in columns_in_each_row)) else 0\n",
        "    if rows == columns:\n",
        "        isSquareMatrix = True\n",
        "    return isSquareMatrix, rows, columns\n"
      ],
      "execution_count": 0,
      "outputs": []
    },
    {
      "cell_type": "code",
      "metadata": {
        "id": "tJCoeqp3fzen",
        "colab_type": "code",
        "colab": {}
      },
      "source": [
        "def get_dot_product(row,column):\n",
        "    dot_product = 0;\n",
        "    for i in range(len(row)):\n",
        "        dot_product += row[i]*column[i]\n",
        "    return dot_product\n",
        "\n"
      ],
      "execution_count": 0,
      "outputs": []
    },
    {
      "cell_type": "code",
      "metadata": {
        "id": "q54NwnwPv68_",
        "colab_type": "code",
        "colab": {}
      },
      "source": [
        "def transpose_matrix(B,rows,columns):\n",
        "    transpose = []\n",
        "    for c_index in range(columns):\n",
        "        column = []\n",
        "        for r_index in range(rows):\n",
        "            column.append(B[r_index][c_index])\n",
        "        transpose.append(column)\n",
        "    return transpose"
      ],
      "execution_count": 0,
      "outputs": []
    },
    {
      "cell_type": "code",
      "metadata": {
        "id": "aNNuSmL6e1nx",
        "colab_type": "code",
        "colab": {}
      },
      "source": [
        "def matrix_multiplier(A,B):\n",
        "    #m is supposed to be a square matrix\n",
        "    #n is the number of times it needs to be multiplied\n",
        "    squarematrixA, rowsA, columnsA = isSquareMatrix(A)\n",
        "    squarematrixB, rowsB, columnsB = isSquareMatrix(B)\n",
        "\n",
        "    product_matrix = []\n",
        "    rows_list = A\n",
        "    columns_list = []\n",
        "    if (squarematrixA and squarematrixB and (rowsA == rowsB) and columnsA ==  columnsB ):\n",
        "        columns = columnsA\n",
        "        rows = rowsA\n",
        "        #print(\"Given matrix is square matrix and hence let us continue\")\n",
        "        columns_list =   transpose_matrix(B,rows,columns)      \n",
        "\n",
        "        #print (\"rows_list     \", rows_list)\n",
        "        #print (\"columns_list  \",columns_list)\n",
        "        \n",
        "        for i in range(rows):\n",
        "            product_row = []\n",
        "            for j in range(columns):\n",
        "                #print (i, rows_list[i], j, columns_list[j])\n",
        "                product_row.append(get_dot_product(rows_list[i],columns_list[j]))\n",
        "            #print(product_row)\n",
        "            product_matrix.append(product_row)\n",
        "        #print (product_matrix)\n",
        "        return product_matrix\n",
        "\n",
        "    else:\n",
        "        print(\"Given matrix is not square matrix and hence cannot be multiplied onto itself\")\n",
        "\n"
      ],
      "execution_count": 0,
      "outputs": []
    },
    {
      "cell_type": "code",
      "metadata": {
        "id": "qqxA-5kQ2QNW",
        "colab_type": "code",
        "colab": {}
      },
      "source": [
        "def power_of_matrix(A,n):\n",
        "    product = A\n",
        "    if n > 1:\n",
        "        for i in range(1,n):\n",
        "            product = matrix_multiplier(product,A)\n",
        "    elif n==1:\n",
        "        pass\n",
        "    else:\n",
        "        print (\"n must be > 0\")\n",
        "        return None\n",
        "    return product"
      ],
      "execution_count": 0,
      "outputs": []
    },
    {
      "cell_type": "code",
      "metadata": {
        "id": "m42xACO62YQb",
        "colab_type": "code",
        "colab": {
          "base_uri": "https://localhost:8080/",
          "height": 189
        },
        "outputId": "be826276-d20d-4405-e22c-cd63284d76eb"
      },
      "source": [
        "x = [[1,1],[1,0]]\n",
        "for n in range(1,11):\n",
        "    print(power_of_matrix(x,n))"
      ],
      "execution_count": 72,
      "outputs": [
        {
          "output_type": "stream",
          "text": [
            "[[1, 1], [1, 0]]\n",
            "[[2, 1], [1, 1]]\n",
            "[[3, 2], [2, 1]]\n",
            "[[5, 3], [3, 2]]\n",
            "[[8, 5], [5, 3]]\n",
            "[[13, 8], [8, 5]]\n",
            "[[21, 13], [13, 8]]\n",
            "[[34, 21], [21, 13]]\n",
            "[[55, 34], [34, 21]]\n",
            "[[89, 55], [55, 34]]\n"
          ],
          "name": "stdout"
        }
      ]
    },
    {
      "cell_type": "code",
      "metadata": {
        "id": "uJYbILTTX0MR",
        "colab_type": "code",
        "colab": {
          "base_uri": "https://localhost:8080/",
          "height": 189
        },
        "outputId": "e9cd0770-a7fc-4f79-9afb-7b3cbb3bda70"
      },
      "source": [
        "x = [[1,1,1],[1,1,1],[1,1,1]]\n",
        "for n in range(1,11):\n",
        "    print(power_of_matrix(x,n))\n"
      ],
      "execution_count": 71,
      "outputs": [
        {
          "output_type": "stream",
          "text": [
            "[[1, 1, 1], [1, 1, 1], [1, 1, 1]]\n",
            "[[3, 3, 3], [3, 3, 3], [3, 3, 3]]\n",
            "[[9, 9, 9], [9, 9, 9], [9, 9, 9]]\n",
            "[[27, 27, 27], [27, 27, 27], [27, 27, 27]]\n",
            "[[81, 81, 81], [81, 81, 81], [81, 81, 81]]\n",
            "[[243, 243, 243], [243, 243, 243], [243, 243, 243]]\n",
            "[[729, 729, 729], [729, 729, 729], [729, 729, 729]]\n",
            "[[2187, 2187, 2187], [2187, 2187, 2187], [2187, 2187, 2187]]\n",
            "[[6561, 6561, 6561], [6561, 6561, 6561], [6561, 6561, 6561]]\n",
            "[[19683, 19683, 19683], [19683, 19683, 19683], [19683, 19683, 19683]]\n"
          ],
          "name": "stdout"
        }
      ]
    }
  ]
}