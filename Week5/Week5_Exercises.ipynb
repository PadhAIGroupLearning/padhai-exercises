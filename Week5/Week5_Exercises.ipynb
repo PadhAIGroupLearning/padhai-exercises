{
  "nbformat": 4,
  "nbformat_minor": 0,
  "metadata": {
    "colab": {
      "name": "Week5-Exercises.ipynb",
      "provenance": [],
      "collapsed_sections": [],
      "toc_visible": true,
      "include_colab_link": true
    },
    "kernelspec": {
      "name": "python3",
      "display_name": "Python 3"
    }
  },
  "cells": [
    {
      "cell_type": "markdown",
      "metadata": {
        "id": "view-in-github",
        "colab_type": "text"
      },
      "source": [
        "<a href=\"https://colab.research.google.com/github/PadhAIGroupLearning/padhai-exercises/blob/master/Week5/Week5_Exercises.ipynb\" target=\"_parent\"><img src=\"https://colab.research.google.com/assets/colab-badge.svg\" alt=\"Open In Colab\"/></a>"
      ]
    },
    {
      "cell_type": "markdown",
      "metadata": {
        "id": "Hl6PFLnaS2BK",
        "colab_type": "text"
      },
      "source": [
        "This is shared notebook to solve the Week5 exercises."
      ]
    },
    {
      "cell_type": "markdown",
      "metadata": {
        "id": "1-0aESLFS8zG",
        "colab_type": "text"
      },
      "source": [
        "#Exercise for Lists:\n",
        "\n",
        "Given the following square matrix A\n",
        "$$ A = \\left[ \\begin{array}{cc} 1 & 1 \\\\ 1 & 0 \\end{array}\\right] $$\n",
        "compute the matrix $A^n$ obtained by multiplying $A$ to itself $n$ times.\n",
        "\n",
        "Can you comment on the left-top value in $A^n$ (What does this remind you of?)"
      ]
    },
    {
      "cell_type": "code",
      "metadata": {
        "id": "Tk3Ymt-MV2ei",
        "colab_type": "code",
        "colab": {}
      },
      "source": [
        "def get_number_rows_columns(m):\n",
        "    '''\n",
        "    given matrix m, return the number of rows and columns\n",
        "    '''\n",
        "    rows = len(m)\n",
        "    columns_in_each_row = [len(item) for item in m]\n",
        "    columns = columns_in_each_row[0] if (all(element == columns_in_each_row[0] for element in columns_in_each_row)) else 0\n",
        "    return rows, columns\n",
        "\n",
        "def isSquareMatrix(m):\n",
        "    '''\n",
        "    This functions checks if givem matrix m is a square matrix or not\n",
        "    '''\n",
        "    \n",
        "    isSquareMatrix = False\n",
        "    rows,columns = get_number_rows_columns(m)\n",
        "\n",
        "    if rows == columns:\n",
        "        isSquareMatrix = True\n",
        "\n",
        "    return isSquareMatrix\n"
      ],
      "execution_count": 0,
      "outputs": []
    },
    {
      "cell_type": "code",
      "metadata": {
        "id": "tJCoeqp3fzen",
        "colab_type": "code",
        "colab": {}
      },
      "source": [
        "def get_dot_product(row,column):\n",
        "    '''\n",
        "    given 2 lists row and column, performs sum_product of each elements\n",
        "    '''\n",
        "    dot_product = 0;\n",
        "    for i in range(len(row)):\n",
        "        dot_product += row[i]*column[i]\n",
        "    return dot_product\n",
        "\n"
      ],
      "execution_count": 0,
      "outputs": []
    },
    {
      "cell_type": "code",
      "metadata": {
        "id": "q54NwnwPv68_",
        "colab_type": "code",
        "colab": {}
      },
      "source": [
        "def transpose_matrix(B,rows,columns):\n",
        "    '''\n",
        "    Interchanges rows and columns\n",
        "    '''\n",
        "    transpose = []\n",
        "    for c_index in range(columns):\n",
        "        column = []\n",
        "        for r_index in range(rows):\n",
        "            column.append(B[r_index][c_index])\n",
        "        transpose.append(column)\n",
        "    return transpose"
      ],
      "execution_count": 0,
      "outputs": []
    },
    {
      "cell_type": "code",
      "metadata": {
        "id": "aNNuSmL6e1nx",
        "colab_type": "code",
        "colab": {}
      },
      "source": [
        "def matrix_multiplier(A,B):\n",
        "    '''\n",
        "    Multiplies 2 matrices A and B,\n",
        "    Only if the matrices are of p x q, q x r dimension respectively.\n",
        "    '''\n",
        "\n",
        "    rowsA, columnsA = get_number_rows_columns(A)\n",
        "    rowsB, columnsB = get_number_rows_columns(B)\n",
        "\n",
        "    product_matrix = []\n",
        "    rows_list = A\n",
        "    columns_list = []\n",
        "    if (columnsA ==  rowsB ):\n",
        "        #print(\"Given matrix is square matrix and hence let us continue\")\n",
        "\n",
        "        #Just to make the multiplication easy, Matrix B is transposed.\n",
        "        columns_list =   transpose_matrix(B,rowsB,columnsB)      \n",
        "\n",
        "        #print (\"rows_list     \", rows_list)\n",
        "        #print (\"columns_list  \",columns_list)\n",
        "        \n",
        "        for i in range(rowsA):\n",
        "            product_row = []\n",
        "            for j in range(columnsB):\n",
        "                #print (i, rows_list[i], j, columns_list[j])\n",
        "                #get_dot_product multiplies a 1 * p and p * 1 matrices and returns 1*1\n",
        "                product_row.append(get_dot_product(rows_list[i],columns_list[j]))\n",
        "\n",
        "            product_matrix.append(product_row)\n",
        "        return product_matrix\n",
        "\n",
        "    else:\n",
        "        print(\"Given matrix is not square matrix and hence cannot be multiplied onto itself\")\n",
        "        return None\n",
        "\n"
      ],
      "execution_count": 0,
      "outputs": []
    },
    {
      "cell_type": "code",
      "metadata": {
        "id": "qqxA-5kQ2QNW",
        "colab_type": "code",
        "colab": {}
      },
      "source": [
        "def power_of_matrix(A,n):\n",
        "    '''\n",
        "    Finds the n th power of matrix A.\n",
        "    A must be a square matrix\n",
        "    n must be >= 1\n",
        "    '''\n",
        "    if (isSquareMatrix(A)):\n",
        "        product = A\n",
        "        if n > 1:\n",
        "            for i in range(1,n):\n",
        "                product = matrix_multiplier(product,A)\n",
        "        elif n < 1:\n",
        "            print (\"n must be > 0\")\n",
        "            return None\n",
        "        return product"
      ],
      "execution_count": 0,
      "outputs": []
    },
    {
      "cell_type": "code",
      "metadata": {
        "id": "m42xACO62YQb",
        "colab_type": "code",
        "colab": {}
      },
      "source": [
        "x = [[1,1],[1,0]]\n",
        "y = [[1,1,1],[1,1,1],[1,1,1]]\n",
        "z = [[1,2,3],[4,5,6]]\n"
      ],
      "execution_count": 0,
      "outputs": []
    },
    {
      "cell_type": "markdown",
      "metadata": {
        "id": "sWFPsH_o-pL-",
        "colab_type": "text"
      },
      "source": [
        "## Test get_number_rows_columns()"
      ]
    },
    {
      "cell_type": "code",
      "metadata": {
        "id": "KBK763fH_EwL",
        "colab_type": "code",
        "outputId": "6d5af973-69f5-45c0-a70a-170995e744a6",
        "colab": {
          "base_uri": "https://localhost:8080/",
          "height": 68
        }
      },
      "source": [
        "print(get_number_rows_columns(x))\n",
        "print(get_number_rows_columns(y))\n",
        "print(get_number_rows_columns(z))\n"
      ],
      "execution_count": 7,
      "outputs": [
        {
          "output_type": "stream",
          "text": [
            "(2, 2)\n",
            "(3, 3)\n",
            "(2, 3)\n"
          ],
          "name": "stdout"
        }
      ]
    },
    {
      "cell_type": "markdown",
      "metadata": {
        "id": "-DuYuYMu_4yg",
        "colab_type": "text"
      },
      "source": [
        "##Test isSquareMatrix()"
      ]
    },
    {
      "cell_type": "code",
      "metadata": {
        "id": "1oytghZf_l4a",
        "colab_type": "code",
        "outputId": "742399e6-e28e-47a7-d528-80ade6fc26f6",
        "colab": {
          "base_uri": "https://localhost:8080/",
          "height": 68
        }
      },
      "source": [
        "\n",
        "print(isSquareMatrix(x))\n",
        "print(isSquareMatrix(y))\n",
        "print(isSquareMatrix(z))"
      ],
      "execution_count": 8,
      "outputs": [
        {
          "output_type": "stream",
          "text": [
            "True\n",
            "True\n",
            "False\n"
          ],
          "name": "stdout"
        }
      ]
    },
    {
      "cell_type": "markdown",
      "metadata": {
        "id": "zHbssn8PABjY",
        "colab_type": "text"
      },
      "source": [
        "##Test get_dot_product()\n"
      ]
    },
    {
      "cell_type": "code",
      "metadata": {
        "id": "2TbRVKudAImG",
        "colab_type": "code",
        "outputId": "cdee781f-2375-4ddf-8125-8658f3f8db17",
        "colab": {
          "base_uri": "https://localhost:8080/",
          "height": 51
        }
      },
      "source": [
        "print(get_dot_product(x[0],x[1]))\n",
        "print(get_dot_product(y[0],y[1]))"
      ],
      "execution_count": 9,
      "outputs": [
        {
          "output_type": "stream",
          "text": [
            "1\n",
            "3\n"
          ],
          "name": "stdout"
        }
      ]
    },
    {
      "cell_type": "markdown",
      "metadata": {
        "id": "NCPFe8q9Ar3Z",
        "colab_type": "text"
      },
      "source": [
        "##Test transpose_matrix()"
      ]
    },
    {
      "cell_type": "code",
      "metadata": {
        "id": "XodYeWzIAufN",
        "colab_type": "code",
        "outputId": "1a54dbb8-8dfb-472a-ef52-4a9daef8de35",
        "colab": {
          "base_uri": "https://localhost:8080/",
          "height": 68
        }
      },
      "source": [
        "r,c = get_number_rows_columns(x)\n",
        "print(x, \"and its transpose is \", transpose_matrix(x,r,c))\n",
        "r,c = get_number_rows_columns(y)\n",
        "print(y, \"and its transpose is \", transpose_matrix(y,r,c))\n",
        "r,c = get_number_rows_columns(z)\n",
        "print(z, \"and its transpose is \", transpose_matrix(z,r,c))\n"
      ],
      "execution_count": 10,
      "outputs": [
        {
          "output_type": "stream",
          "text": [
            "[[1, 1], [1, 0]] and its transpose is  [[1, 1], [1, 0]]\n",
            "[[1, 1, 1], [1, 1, 1], [1, 1, 1]] and its transpose is  [[1, 1, 1], [1, 1, 1], [1, 1, 1]]\n",
            "[[1, 2, 3], [4, 5, 6]] and its transpose is  [[1, 4], [2, 5], [3, 6]]\n"
          ],
          "name": "stdout"
        }
      ]
    },
    {
      "cell_type": "markdown",
      "metadata": {
        "id": "nZqGbAGlBqwM",
        "colab_type": "text"
      },
      "source": [
        "##Test matrix_multiplier()"
      ]
    },
    {
      "cell_type": "code",
      "metadata": {
        "id": "PP53CeSsBt5n",
        "colab_type": "code",
        "outputId": "169a1ebd-15c5-486f-b938-184006a12811",
        "colab": {
          "base_uri": "https://localhost:8080/",
          "height": 34
        }
      },
      "source": [
        "m = [[1,2,4],[5,6,7]]\n",
        "n = [[1,2],[3,4],[5,6]]\n",
        "print(matrix_multiplier(m,n))"
      ],
      "execution_count": 11,
      "outputs": [
        {
          "output_type": "stream",
          "text": [
            "[[27, 34], [58, 76]]\n"
          ],
          "name": "stdout"
        }
      ]
    },
    {
      "cell_type": "markdown",
      "metadata": {
        "id": "xpWnhv4xCUL4",
        "colab_type": "text"
      },
      "source": [
        "##Test power_of_matrix()"
      ]
    },
    {
      "cell_type": "code",
      "metadata": {
        "id": "skRmvbQFCTSB",
        "colab_type": "code",
        "outputId": "f59ad577-0e40-49c4-f6f5-a88ccf152c79",
        "colab": {
          "base_uri": "https://localhost:8080/",
          "height": 629
        }
      },
      "source": [
        "print(\"input matrix is\", x)\n",
        "for n in range(1,11):\n",
        "    print(power_of_matrix(x,n))\n",
        "print(\"=============================\")    \n",
        "print(\"input matrix is\", y)\n",
        "for n in range(1,11):\n",
        "    print(power_of_matrix(y,n))\n",
        "print(\"=============================\")    \n",
        "print(\"input matrix is\", z)\n",
        "for n in range(1,11):\n",
        "    print(power_of_matrix(z,n))\n",
        "print(\"=============================\")    "
      ],
      "execution_count": 12,
      "outputs": [
        {
          "output_type": "stream",
          "text": [
            "input matrix is [[1, 1], [1, 0]]\n",
            "[[1, 1], [1, 0]]\n",
            "[[2, 1], [1, 1]]\n",
            "[[3, 2], [2, 1]]\n",
            "[[5, 3], [3, 2]]\n",
            "[[8, 5], [5, 3]]\n",
            "[[13, 8], [8, 5]]\n",
            "[[21, 13], [13, 8]]\n",
            "[[34, 21], [21, 13]]\n",
            "[[55, 34], [34, 21]]\n",
            "[[89, 55], [55, 34]]\n",
            "=============================\n",
            "input matrix is [[1, 1, 1], [1, 1, 1], [1, 1, 1]]\n",
            "[[1, 1, 1], [1, 1, 1], [1, 1, 1]]\n",
            "[[3, 3, 3], [3, 3, 3], [3, 3, 3]]\n",
            "[[9, 9, 9], [9, 9, 9], [9, 9, 9]]\n",
            "[[27, 27, 27], [27, 27, 27], [27, 27, 27]]\n",
            "[[81, 81, 81], [81, 81, 81], [81, 81, 81]]\n",
            "[[243, 243, 243], [243, 243, 243], [243, 243, 243]]\n",
            "[[729, 729, 729], [729, 729, 729], [729, 729, 729]]\n",
            "[[2187, 2187, 2187], [2187, 2187, 2187], [2187, 2187, 2187]]\n",
            "[[6561, 6561, 6561], [6561, 6561, 6561], [6561, 6561, 6561]]\n",
            "[[19683, 19683, 19683], [19683, 19683, 19683], [19683, 19683, 19683]]\n",
            "=============================\n",
            "input matrix is [[1, 2, 3], [4, 5, 6]]\n",
            "None\n",
            "None\n",
            "None\n",
            "None\n",
            "None\n",
            "None\n",
            "None\n",
            "None\n",
            "None\n",
            "None\n",
            "=============================\n"
          ],
          "name": "stdout"
        }
      ]
    },
    {
      "cell_type": "markdown",
      "metadata": {
        "id": "JlRMMmIbRs4k",
        "colab_type": "text"
      },
      "source": [
        "##Adding new test case"
      ]
    },
    {
      "cell_type": "code",
      "metadata": {
        "id": "9toWQVCT_BzS",
        "colab_type": "code",
        "colab": {
          "base_uri": "https://localhost:8080/",
          "height": 34
        },
        "outputId": "6eaa0cb8-f239-45a8-ae80-8b018bf3d310"
      },
      "source": [
        "a = [[1,2],[3,4]]\n",
        "n = 10\n",
        "print(power_of_matrix(a,n))"
      ],
      "execution_count": 14,
      "outputs": [
        {
          "output_type": "stream",
          "text": [
            "[[4783807, 6972050], [10458075, 15241882]]\n"
          ],
          "name": "stdout"
        }
      ]
    },
    {
      "cell_type": "markdown",
      "metadata": {
        "id": "53x5KtBx-FJx",
        "colab_type": "text"
      },
      "source": [
        "#Exercise for Dictionaries\n",
        "Receive the user input that says something like \"I went to Parliament\" or \"Why don't you go to Wankhede\". You then subsitute the POI by its lat and long coordinates of that POI."
      ]
    },
    {
      "cell_type": "code",
      "metadata": {
        "id": "8Qn1bHta-EDL",
        "colab_type": "code",
        "colab": {}
      },
      "source": [
        "#Create a list of POI dict\n",
        "#A POI dict contains POI name, its lat and long\n",
        "poi_dataset = [\n",
        "               {\"name\": \"Mysore Palace\",\n",
        "                \"lat\" : 12.305223,\n",
        "                \"long\": 76.654107},\n",
        "\n",
        "               {\"name\":\"India Gate\",\n",
        "                \"lat\": 28.613157,\n",
        "                \"long\":77.229520},\n",
        "\n",
        "               {\"name\": \"Lalbagh\",\n",
        "                \"lat\":12.951015,\n",
        "                \"long\":77.584745},\n",
        "\n",
        "               {\"name\": \"Jog Falls\",\n",
        "                \"lat\":14.229740,\n",
        "                \"long\": 74.812523}\n",
        "\n",
        "]\n",
        "\n",
        "#Create a name set\n",
        "poi_name_set = set(each[\"name\"] for each in poi_dataset)\n"
      ],
      "execution_count": 0,
      "outputs": []
    },
    {
      "cell_type": "code",
      "metadata": {
        "id": "dIdnVYNcLKFw",
        "colab_type": "code",
        "colab": {}
      },
      "source": [
        "#Check if the sentence has a POI name\n",
        "def isPoiInInputString(in_str):\n",
        "    found = False\n",
        "    poi = \"\"\n",
        "    for each in poi_name_set:\n",
        "        if each in in_str:\n",
        "            found = True\n",
        "            poi = each\n",
        "            break\n",
        "    return found, poi"
      ],
      "execution_count": 0,
      "outputs": []
    },
    {
      "cell_type": "code",
      "metadata": {
        "id": "kYzKWGoOMHth",
        "colab_type": "code",
        "colab": {}
      },
      "source": [
        "#Input a sentence from user\n",
        "def get_string_from_user():\n",
        "    return input(\"Say something about a POI: \")\n"
      ],
      "execution_count": 0,
      "outputs": []
    },
    {
      "cell_type": "code",
      "metadata": {
        "id": "5Td3m5oVMZ2Z",
        "colab_type": "code",
        "colab": {}
      },
      "source": [
        "def get_lat_long(poi):\n",
        "    #If so, search in the data set for lat and long\n",
        "    for each in poi_dataset:\n",
        "        if each[\"name\"] == poi:\n",
        "            return each[\"lat\"], each[\"long\"]\n",
        "    return \"NA\", \"NA\"\n"
      ],
      "execution_count": 0,
      "outputs": []
    },
    {
      "cell_type": "markdown",
      "metadata": {
        "id": "xcBzaXevM-N6",
        "colab_type": "text"
      },
      "source": [
        "##Main function"
      ]
    },
    {
      "cell_type": "code",
      "metadata": {
        "id": "HffbQJ71NBZ7",
        "colab_type": "code",
        "colab": {}
      },
      "source": [
        "input_str = get_string_from_user()\n",
        "isPoi, poi = isPoiInInputString(input_str)\n",
        "if (isPoi):\n",
        "    lat, long = get_lat_long(poi)\n",
        "    print(poi, \" is at \", lat, long, \" coordinates\")\n",
        "else:\n",
        "    print(\"Oh O, I can't find any POI in your string or I don't have it in my database !\")"
      ],
      "execution_count": 0,
      "outputs": []
    }
  ]
}