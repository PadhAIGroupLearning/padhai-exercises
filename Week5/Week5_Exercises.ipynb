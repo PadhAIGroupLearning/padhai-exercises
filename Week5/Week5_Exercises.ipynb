{
  "nbformat": 4,
  "nbformat_minor": 0,
  "metadata": {
    "colab": {
      "name": "Week5-Exercises.ipynb",
      "provenance": [],
      "collapsed_sections": [],
      "toc_visible": true,
      "include_colab_link": true
    },
    "kernelspec": {
      "name": "python3",
      "display_name": "Python 3"
    }
  },
  "cells": [
    {
      "cell_type": "markdown",
      "metadata": {
        "id": "view-in-github",
        "colab_type": "text"
      },
      "source": [
        "<a href=\"https://colab.research.google.com/github/PadhAIGroupLearning/padhai-exercises/blob/master/Week5/Week5_Exercises.ipynb\" target=\"_parent\"><img src=\"https://colab.research.google.com/assets/colab-badge.svg\" alt=\"Open In Colab\"/></a>"
      ]
    },
    {
      "cell_type": "markdown",
      "metadata": {
        "id": "Hl6PFLnaS2BK",
        "colab_type": "text"
      },
      "source": [
        "This is shared notebook to solve the Week5 exercises."
      ]
    },
    {
      "cell_type": "markdown",
      "metadata": {
        "id": "1-0aESLFS8zG",
        "colab_type": "text"
      },
      "source": [
        "#Exercise for Lists:\n",
        "\n",
        "Given the following square matrix A\n",
        "$$ A = \\left[ \\begin{array}{cc} 1 & 1 \\\\ 1 & 0 \\end{array}\\right] $$\n",
        "compute the matrix $A^n$ obtained by multiplying $A$ to itself $n$ times.\n",
        "\n",
        "Can you comment on the left-top value in $A^n$ (What does this remind you of?)"
      ]
    },
    {
      "cell_type": "code",
      "metadata": {
        "id": "Tk3Ymt-MV2ei",
        "colab_type": "code",
        "colab": {}
      },
      "source": [
        "def get_number_rows_columns(m):\n",
        "    '''\n",
        "    given matrix m, return the number of rows and columns\n",
        "    '''\n",
        "    rows = len(m)\n",
        "    columns_in_each_row = [len(item) for item in m]\n",
        "    columns = columns_in_each_row[0] if (all(element == columns_in_each_row[0] for element in columns_in_each_row)) else 0\n",
        "    return rows, columns"
      ],
      "execution_count": 0,
      "outputs": []
    },
    {
      "cell_type": "code",
      "metadata": {
        "id": "W1xnUa1lZpf-",
        "colab_type": "code",
        "colab": {}
      },
      "source": [
        "def isSquareMatrix(m):\n",
        "    '''\n",
        "    This functions checks if givem matrix m is a square matrix or not\n",
        "    '''\n",
        "    rows,columns = get_number_rows_columns(m)\n",
        "    return True if (rows == columns) else False"
      ],
      "execution_count": 0,
      "outputs": []
    },
    {
      "cell_type": "code",
      "metadata": {
        "id": "tJCoeqp3fzen",
        "colab_type": "code",
        "colab": {}
      },
      "source": [
        "def get_dot_product(row,column):\n",
        "    '''\n",
        "    given 2 lists row and column, performs sum_product of each elements\n",
        "    '''\n",
        "    dot_product = 0;\n",
        "    for i in range(len(row)):\n",
        "        dot_product += row[i]*column[i]\n",
        "    return dot_product\n",
        "\n"
      ],
      "execution_count": 0,
      "outputs": []
    },
    {
      "cell_type": "code",
      "metadata": {
        "id": "q54NwnwPv68_",
        "colab_type": "code",
        "colab": {}
      },
      "source": [
        "def transpose_matrix(B,rows,columns):\n",
        "    '''\n",
        "    Interchanges rows and columns\n",
        "    '''\n",
        "    transpose = []\n",
        "    for c_index in range(columns):\n",
        "        transpose.append([item[c_index] for item in B])\n",
        "        \n",
        "    return transpose"
      ],
      "execution_count": 0,
      "outputs": []
    },
    {
      "cell_type": "code",
      "metadata": {
        "id": "aNNuSmL6e1nx",
        "colab_type": "code",
        "colab": {}
      },
      "source": [
        "def matrix_multiplier(A,B):\n",
        "    '''\n",
        "    Multiplies 2 matrices A and B,\n",
        "    Only if the matrices are of p x q, q x r dimension respectively.\n",
        "    '''\n",
        "\n",
        "    rowsA, columnsA = get_number_rows_columns(A)\n",
        "    rowsB, columnsB = get_number_rows_columns(B)\n",
        "\n",
        "    product_matrix = []\n",
        "    \n",
        "    \n",
        "    if (columnsA ==  rowsB ):\n",
        "        #print(\"Given matrix is square matrix and hence let us continue\")\n",
        "\n",
        "        #Approach 1: Keep a transpose of A ready for dot.product\n",
        "        #Just to make the multiplication easy, Matrix B is transposed.\n",
        "        #columns_list =   transpose_matrix(B,rowsB,columnsB)\n",
        "\n",
        "        #Approach 2: Use a pythonic way, to get the columns list      \n",
        "\n",
        "        for i in range(rowsA):\n",
        "            product_row = []\n",
        "            row = A[i]\n",
        "            for j in range(columnsB):\n",
        "                #get_dot_product multiplies a 1 * p and p * 1 matrices and returns 1*1\n",
        "                #############################\n",
        "                #Approach1\n",
        "                #product_row.append(get_dot_product(row,columns_list[j]))\n",
        "                #############################\n",
        "                #Approach2:\n",
        "                #get j'th column\n",
        "                column = [item[j] for item in B]\n",
        "                product_row.append(get_dot_product(row,column))\n",
        "                #############################\n",
        "            product_matrix.append(product_row)\n",
        "        return product_matrix\n",
        "\n",
        "    else:\n",
        "        print(\"Given matrix is not square matrix and hence cannot be multiplied onto itself\")\n",
        "        return None\n",
        "\n"
      ],
      "execution_count": 0,
      "outputs": []
    },
    {
      "cell_type": "code",
      "metadata": {
        "id": "qqxA-5kQ2QNW",
        "colab_type": "code",
        "colab": {}
      },
      "source": [
        "def power_of_matrix(A,n):\n",
        "    '''\n",
        "    Finds the n th power of matrix A.\n",
        "    A must be a square matrix\n",
        "    n must be >= 1\n",
        "    '''\n",
        "    if (isSquareMatrix(A)):\n",
        "        product = A\n",
        "        if n > 1:\n",
        "            for i in range(1,n):\n",
        "                product = matrix_multiplier(product,A)\n",
        "        elif n < 1:\n",
        "            print (\"n must be > 0\")\n",
        "            return None\n",
        "        return product"
      ],
      "execution_count": 0,
      "outputs": []
    },
    {
      "cell_type": "code",
      "metadata": {
        "id": "m42xACO62YQb",
        "colab_type": "code",
        "colab": {}
      },
      "source": [
        "x = [[1,1],[1,0]]\n",
        "y = [[1,2,3],[4,5,6],[7,8,9]]\n",
        "z = [[1,2,3],[4,5,6]]\n"
      ],
      "execution_count": 0,
      "outputs": []
    },
    {
      "cell_type": "markdown",
      "metadata": {
        "id": "sWFPsH_o-pL-",
        "colab_type": "text"
      },
      "source": [
        "## Test get_number_rows_columns()"
      ]
    },
    {
      "cell_type": "code",
      "metadata": {
        "id": "KBK763fH_EwL",
        "colab_type": "code",
        "outputId": "a7de2486-4f49-476f-e189-2becab2952a3",
        "colab": {
          "base_uri": "https://localhost:8080/",
          "height": 69
        }
      },
      "source": [
        "print(get_number_rows_columns(x))\n",
        "print(get_number_rows_columns(y))\n",
        "print(get_number_rows_columns(z))\n"
      ],
      "execution_count": 8,
      "outputs": [
        {
          "output_type": "stream",
          "text": [
            "(2, 2)\n",
            "(3, 3)\n",
            "(2, 3)\n"
          ],
          "name": "stdout"
        }
      ]
    },
    {
      "cell_type": "markdown",
      "metadata": {
        "id": "-DuYuYMu_4yg",
        "colab_type": "text"
      },
      "source": [
        "##Test isSquareMatrix()"
      ]
    },
    {
      "cell_type": "code",
      "metadata": {
        "id": "1oytghZf_l4a",
        "colab_type": "code",
        "outputId": "81d33ba6-2997-4dc4-81f5-f25a9a215791",
        "colab": {
          "base_uri": "https://localhost:8080/",
          "height": 69
        }
      },
      "source": [
        "\n",
        "print(isSquareMatrix(x))\n",
        "print(isSquareMatrix(y))\n",
        "print(isSquareMatrix(z))"
      ],
      "execution_count": 9,
      "outputs": [
        {
          "output_type": "stream",
          "text": [
            "True\n",
            "True\n",
            "False\n"
          ],
          "name": "stdout"
        }
      ]
    },
    {
      "cell_type": "markdown",
      "metadata": {
        "id": "zHbssn8PABjY",
        "colab_type": "text"
      },
      "source": [
        "##Test get_dot_product()\n"
      ]
    },
    {
      "cell_type": "code",
      "metadata": {
        "id": "2TbRVKudAImG",
        "colab_type": "code",
        "outputId": "7d28c6e7-8543-4756-8926-548c6412ae04",
        "colab": {
          "base_uri": "https://localhost:8080/",
          "height": 51
        }
      },
      "source": [
        "print(get_dot_product(x[0],x[1]))\n",
        "print(get_dot_product(y[0],y[1]))"
      ],
      "execution_count": 10,
      "outputs": [
        {
          "output_type": "stream",
          "text": [
            "1\n",
            "32\n"
          ],
          "name": "stdout"
        }
      ]
    },
    {
      "cell_type": "markdown",
      "metadata": {
        "id": "NCPFe8q9Ar3Z",
        "colab_type": "text"
      },
      "source": [
        "##Test transpose_matrix()"
      ]
    },
    {
      "cell_type": "code",
      "metadata": {
        "id": "XodYeWzIAufN",
        "colab_type": "code",
        "outputId": "43c4325b-39b3-472d-ca9e-d8abbf384b7d",
        "colab": {
          "base_uri": "https://localhost:8080/",
          "height": 69
        }
      },
      "source": [
        "r,c = get_number_rows_columns(x)\n",
        "print(x, \"and its transpose is \", transpose_matrix(x,r,c))\n",
        "r,c = get_number_rows_columns(y)\n",
        "print(y, \"and its transpose is \", transpose_matrix(y,r,c))\n",
        "r,c = get_number_rows_columns(z)\n",
        "print(z, \"and its transpose is \", transpose_matrix(z,r,c))\n"
      ],
      "execution_count": 11,
      "outputs": [
        {
          "output_type": "stream",
          "text": [
            "[[1, 1], [1, 0]] and its transpose is  [[1, 1], [1, 0]]\n",
            "[[1, 2, 3], [4, 5, 6], [7, 8, 9]] and its transpose is  [[1, 4, 7], [2, 5, 8], [3, 6, 9]]\n",
            "[[1, 2, 3], [4, 5, 6]] and its transpose is  [[1, 4], [2, 5], [3, 6]]\n"
          ],
          "name": "stdout"
        }
      ]
    },
    {
      "cell_type": "markdown",
      "metadata": {
        "id": "nZqGbAGlBqwM",
        "colab_type": "text"
      },
      "source": [
        "##Test matrix_multiplier()"
      ]
    },
    {
      "cell_type": "code",
      "metadata": {
        "id": "PP53CeSsBt5n",
        "colab_type": "code",
        "outputId": "a7c7b653-4473-48d8-8963-42543b8e560c",
        "colab": {
          "base_uri": "https://localhost:8080/",
          "height": 34
        }
      },
      "source": [
        "m = [[1,2,4],[5,6,7]]\n",
        "n = [[1,2],[3,4],[5,6]]\n",
        "print(matrix_multiplier(m,n))"
      ],
      "execution_count": 12,
      "outputs": [
        {
          "output_type": "stream",
          "text": [
            "[[27, 34], [58, 76]]\n"
          ],
          "name": "stdout"
        }
      ]
    },
    {
      "cell_type": "markdown",
      "metadata": {
        "id": "xpWnhv4xCUL4",
        "colab_type": "text"
      },
      "source": [
        "##Test power_of_matrix()"
      ]
    },
    {
      "cell_type": "code",
      "metadata": {
        "id": "skRmvbQFCTSB",
        "colab_type": "code",
        "outputId": "1bcc651e-89ec-4611-d930-c3511ca04fb6",
        "colab": {
          "base_uri": "https://localhost:8080/",
          "height": 638
        }
      },
      "source": [
        "print(\"input matrix is\", x)\n",
        "for n in range(1,11):\n",
        "    print(power_of_matrix(x,n))\n",
        "print(\"=============================\")    \n",
        "print(\"input matrix is\", y)\n",
        "for n in range(1,11):\n",
        "    print(power_of_matrix(y,n))\n",
        "print(\"=============================\")    \n",
        "print(\"input matrix is\", z)\n",
        "for n in range(1,11):\n",
        "    print(power_of_matrix(z,n))\n",
        "print(\"=============================\")    "
      ],
      "execution_count": 13,
      "outputs": [
        {
          "output_type": "stream",
          "text": [
            "input matrix is [[1, 1], [1, 0]]\n",
            "[[1, 1], [1, 0]]\n",
            "[[2, 1], [1, 1]]\n",
            "[[3, 2], [2, 1]]\n",
            "[[5, 3], [3, 2]]\n",
            "[[8, 5], [5, 3]]\n",
            "[[13, 8], [8, 5]]\n",
            "[[21, 13], [13, 8]]\n",
            "[[34, 21], [21, 13]]\n",
            "[[55, 34], [34, 21]]\n",
            "[[89, 55], [55, 34]]\n",
            "=============================\n",
            "input matrix is [[1, 2, 3], [4, 5, 6], [7, 8, 9]]\n",
            "[[1, 2, 3], [4, 5, 6], [7, 8, 9]]\n",
            "[[30, 36, 42], [66, 81, 96], [102, 126, 150]]\n",
            "[[468, 576, 684], [1062, 1305, 1548], [1656, 2034, 2412]]\n",
            "[[7560, 9288, 11016], [17118, 21033, 24948], [26676, 32778, 38880]]\n",
            "[[121824, 149688, 177552], [275886, 338985, 402084], [429948, 528282, 626616]]\n",
            "[[1963440, 2412504, 2861568], [4446414, 5463369, 6480324], [6929388, 8514234, 10099080]]\n",
            "[[31644432, 38881944, 46119456], [71662158, 88052265, 104442372], [111679884, 137222586, 162765288]]\n",
            "[[510008400, 626654232, 743300064], [1154967822, 1419124617, 1683281412], [1799927244, 2211595002, 2623262760]]\n",
            "[[8219725776, 10099688472, 11979651168], [18614436174, 22871810025, 27129183876], [29009146572, 35643931578, 42278716584]]\n",
            "[[132476037840, 162775103256, 193074168672], [300005963406, 368621393481, 437236823556], [467535888972, 574467683706, 681399478440]]\n",
            "=============================\n",
            "input matrix is [[1, 2, 3], [4, 5, 6]]\n",
            "None\n",
            "None\n",
            "None\n",
            "None\n",
            "None\n",
            "None\n",
            "None\n",
            "None\n",
            "None\n",
            "None\n",
            "=============================\n"
          ],
          "name": "stdout"
        }
      ]
    },
    {
      "cell_type": "markdown",
      "metadata": {
        "id": "JlRMMmIbRs4k",
        "colab_type": "text"
      },
      "source": [
        "##Adding new test case"
      ]
    },
    {
      "cell_type": "code",
      "metadata": {
        "id": "9toWQVCT_BzS",
        "colab_type": "code",
        "outputId": "8e97a66c-131d-4cb6-e9d3-a5ff90f448be",
        "colab": {
          "base_uri": "https://localhost:8080/",
          "height": 34
        }
      },
      "source": [
        "a = [[1,2],[3,4]]\n",
        "n = 10\n",
        "print(power_of_matrix(a,n))"
      ],
      "execution_count": 14,
      "outputs": [
        {
          "output_type": "stream",
          "text": [
            "[[4783807, 6972050], [10458075, 15241882]]\n"
          ],
          "name": "stdout"
        }
      ]
    },
    {
      "cell_type": "markdown",
      "metadata": {
        "id": "53x5KtBx-FJx",
        "colab_type": "text"
      },
      "source": [
        "#Exercise for Dictionaries\n",
        "Receive the user input that says something like \"I went to Parliament\" or \"Why don't you go to Wankhede\". You then subsitute the POI by its lat and long coordinates of that POI."
      ]
    },
    {
      "cell_type": "code",
      "metadata": {
        "id": "8Qn1bHta-EDL",
        "colab_type": "code",
        "colab": {}
      },
      "source": [
        "#Create a list of POI dict\n",
        "#A POI dict contains POI name, its lat and long\n",
        "poi_dataset = [\n",
        "               {\"name\": \"Mysore Palace\",\n",
        "                \"lat\" : 12.305223,\n",
        "                \"long\": 76.654107},\n",
        "\n",
        "               {\"name\":\"India Gate\",\n",
        "                \"lat\": 28.613157,\n",
        "                \"long\":77.229520},\n",
        "\n",
        "               {\"name\": \"Lalbagh\",\n",
        "                \"lat\":12.951015,\n",
        "                \"long\":77.584745},\n",
        "\n",
        "               {\"name\": \"Jog Falls\",\n",
        "                \"lat\":14.229740,\n",
        "                \"long\": 74.812523}\n",
        "\n",
        "]\n",
        "\n",
        "#Create a name set\n",
        "poi_name_set = set(each[\"name\"] for each in poi_dataset)\n"
      ],
      "execution_count": 0,
      "outputs": []
    },
    {
      "cell_type": "code",
      "metadata": {
        "id": "dIdnVYNcLKFw",
        "colab_type": "code",
        "colab": {}
      },
      "source": [
        "#Check if the sentence has a POI name\n",
        "def isPoiInInputString(in_str):\n",
        "    found = False\n",
        "    poi = \"\"\n",
        "    for each in poi_name_set:\n",
        "        if each in in_str:\n",
        "            found = True\n",
        "            poi = each\n",
        "            break\n",
        "    return found, poi"
      ],
      "execution_count": 0,
      "outputs": []
    },
    {
      "cell_type": "code",
      "metadata": {
        "id": "kYzKWGoOMHth",
        "colab_type": "code",
        "colab": {}
      },
      "source": [
        "#Input a sentence from user\n",
        "def get_string_from_user():\n",
        "    return input(\"Say something about a POI: \")\n"
      ],
      "execution_count": 0,
      "outputs": []
    },
    {
      "cell_type": "code",
      "metadata": {
        "id": "5Td3m5oVMZ2Z",
        "colab_type": "code",
        "colab": {}
      },
      "source": [
        "def get_lat_long(poi):\n",
        "    #If so, search in the data set for lat and long\n",
        "    for each in poi_dataset:\n",
        "        if each[\"name\"] == poi:\n",
        "            return each[\"lat\"], each[\"long\"]\n",
        "    return \"NA\", \"NA\"\n"
      ],
      "execution_count": 0,
      "outputs": []
    },
    {
      "cell_type": "markdown",
      "metadata": {
        "id": "xcBzaXevM-N6",
        "colab_type": "text"
      },
      "source": [
        "##Main function"
      ]
    },
    {
      "cell_type": "code",
      "metadata": {
        "id": "HffbQJ71NBZ7",
        "colab_type": "code",
        "colab": {
          "base_uri": "https://localhost:8080/",
          "height": 51
        },
        "outputId": "de6b791e-d2ff-4070-8fdb-de5552f878f4"
      },
      "source": [
        "input_str = get_string_from_user()\n",
        "isPoi, poi = isPoiInInputString(input_str)\n",
        "if (isPoi):\n",
        "    lat, long = get_lat_long(poi)\n",
        "    print(poi, \" is at \", lat, long, \" coordinates\")\n",
        "else:\n",
        "    print(\"Oh O, I can't find any POI in your string or I don't have it in my database !\")"
      ],
      "execution_count": 19,
      "outputs": [
        {
          "output_type": "stream",
          "text": [
            "Say something about a POI: I want to visit Jog Falls\n",
            "Jog Falls  is at  14.22974 74.812523  coordinates\n"
          ],
          "name": "stdout"
        }
      ]
    }
  ]
}