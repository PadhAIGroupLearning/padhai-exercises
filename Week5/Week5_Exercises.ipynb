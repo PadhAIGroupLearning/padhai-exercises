{
  "nbformat": 4,
  "nbformat_minor": 0,
  "metadata": {
    "colab": {
      "name": "Week5-Exercises.ipynb",
      "provenance": [],
      "collapsed_sections": [],
      "toc_visible": true,
      "include_colab_link": true
    },
    "kernelspec": {
      "name": "python3",
      "display_name": "Python 3"
    }
  },
  "cells": [
    {
      "cell_type": "markdown",
      "metadata": {
        "id": "view-in-github",
        "colab_type": "text"
      },
      "source": [
        "<a href=\"https://colab.research.google.com/github/PadhAIGroupLearning/padhai-exercises/blob/master/Week5/Week5_Exercises.ipynb\" target=\"_parent\"><img src=\"https://colab.research.google.com/assets/colab-badge.svg\" alt=\"Open In Colab\"/></a>"
      ]
    },
    {
      "cell_type": "markdown",
      "metadata": {
        "id": "Hl6PFLnaS2BK",
        "colab_type": "text"
      },
      "source": [
        "#Exercises\n",
        "This is shared notebook to solve the Week5 exercises."
      ]
    },
    {
      "cell_type": "markdown",
      "metadata": {
        "id": "1-0aESLFS8zG",
        "colab_type": "text"
      },
      "source": [
        "##Exercise for Lists:\n",
        "\n",
        "Given the following square matrix A\n",
        "$$ A = \\left[ \\begin{array}{cc} 1 & 1 \\\\ 1 & 0 \\end{array}\\right] $$\n",
        "compute the matrix $A^n$ obtained by multiplying $A$ to itself $n$ times.\n",
        "\n",
        "Can you comment on the left-top value in $A^n$ (What does this remind you of?)"
      ]
    },
    {
      "cell_type": "code",
      "metadata": {
        "id": "Tk3Ymt-MV2ei",
        "colab_type": "code",
        "colab": {}
      },
      "source": [
        "def get_number_rows_columns(m):\n",
        "    '''\n",
        "    given matrix m, return the number of rows and columns\n",
        "    '''\n",
        "    rows = len(m)\n",
        "    columns_in_each_row = [len(item) for item in m]\n",
        "    columns = columns_in_each_row[0] if (all(element == columns_in_each_row[0] for element in columns_in_each_row)) else 0\n",
        "    return rows, columns"
      ],
      "execution_count": 0,
      "outputs": []
    },
    {
      "cell_type": "code",
      "metadata": {
        "id": "W1xnUa1lZpf-",
        "colab_type": "code",
        "colab": {}
      },
      "source": [
        "def isSquareMatrix(m):\n",
        "    '''\n",
        "    This functions checks if givem matrix m is a square matrix or not\n",
        "    '''\n",
        "    rows,columns = get_number_rows_columns(m)\n",
        "    return True if (rows == columns) else False"
      ],
      "execution_count": 0,
      "outputs": []
    },
    {
      "cell_type": "code",
      "metadata": {
        "id": "tJCoeqp3fzen",
        "colab_type": "code",
        "colab": {}
      },
      "source": [
        "def get_dot_product(row,column):\n",
        "    '''\n",
        "    given 2 lists row and column, performs sum_product of each elements\n",
        "    '''\n",
        "    dot_product = 0;\n",
        "    for i in range(len(row)):\n",
        "        dot_product += row[i]*column[i]\n",
        "    return dot_product\n",
        "\n"
      ],
      "execution_count": 0,
      "outputs": []
    },
    {
      "cell_type": "code",
      "metadata": {
        "id": "q54NwnwPv68_",
        "colab_type": "code",
        "colab": {}
      },
      "source": [
        "def transpose_matrix(B,rows,columns):\n",
        "    '''\n",
        "    Interchanges rows and columns\n",
        "    '''\n",
        "    transpose = []\n",
        "    for c_index in range(columns):\n",
        "        transpose.append([item[c_index] for item in B])\n",
        "        \n",
        "    return transpose"
      ],
      "execution_count": 0,
      "outputs": []
    },
    {
      "cell_type": "code",
      "metadata": {
        "id": "aNNuSmL6e1nx",
        "colab_type": "code",
        "colab": {}
      },
      "source": [
        "def matrix_multiplier(A,B):\n",
        "    '''\n",
        "    Multiplies 2 matrices A and B,\n",
        "    Only if the matrices are of p x q, q x r dimension respectively.\n",
        "    '''\n",
        "\n",
        "    rowsA, columnsA = get_number_rows_columns(A)\n",
        "    rowsB, columnsB = get_number_rows_columns(B)\n",
        "\n",
        "    product_matrix = []\n",
        "    \n",
        "    \n",
        "    if (columnsA ==  rowsB ):\n",
        "        #print(\"Given matrix is square matrix and hence let us continue\")\n",
        "\n",
        "        #Approach 1: Keep a transpose of A ready for dot.product\n",
        "        #Just to make the multiplication easy, Matrix B is transposed.\n",
        "        #columns_list =   transpose_matrix(B,rowsB,columnsB)\n",
        "\n",
        "        #Approach 2: Use a pythonic way, to get the columns list      \n",
        "\n",
        "        for i in range(rowsA):\n",
        "            product_row = []\n",
        "            row = A[i]\n",
        "            for j in range(columnsB):\n",
        "                #get_dot_product multiplies a 1 * p and p * 1 matrices and returns 1*1\n",
        "                #############################\n",
        "                #Approach1\n",
        "                #product_row.append(get_dot_product(row,columns_list[j]))\n",
        "                #############################\n",
        "                #Approach2:\n",
        "                #get j'th column\n",
        "                column = [item[j] for item in B]\n",
        "                product_row.append(get_dot_product(row,column))\n",
        "                #############################\n",
        "            product_matrix.append(product_row)\n",
        "        return product_matrix\n",
        "\n",
        "    else:\n",
        "        print(\"Given matrix is not square matrix and hence cannot be multiplied onto itself\")\n",
        "        return None\n",
        "\n"
      ],
      "execution_count": 0,
      "outputs": []
    },
    {
      "cell_type": "code",
      "metadata": {
        "id": "qqxA-5kQ2QNW",
        "colab_type": "code",
        "colab": {}
      },
      "source": [
        "def power_of_matrix(A,n):\n",
        "    '''\n",
        "    Finds the n th power of matrix A.\n",
        "    A must be a square matrix\n",
        "    n must be >= 1\n",
        "    '''\n",
        "    if (isSquareMatrix(A)):\n",
        "        product = A\n",
        "        if n > 1:\n",
        "            for i in range(1,n):\n",
        "                product = matrix_multiplier(product,A)\n",
        "        elif n < 1:\n",
        "            print (\"n must be > 0\")\n",
        "            return None\n",
        "        return product"
      ],
      "execution_count": 0,
      "outputs": []
    },
    {
      "cell_type": "code",
      "metadata": {
        "id": "m42xACO62YQb",
        "colab_type": "code",
        "colab": {}
      },
      "source": [
        "x = [[1,1],[1,0]]\n",
        "y = [[1,2,3],[4,5,6],[7,8,9]]\n",
        "z = [[1,2,3],[4,5,6]]\n"
      ],
      "execution_count": 0,
      "outputs": []
    },
    {
      "cell_type": "markdown",
      "metadata": {
        "id": "sWFPsH_o-pL-",
        "colab_type": "text"
      },
      "source": [
        "##Test for List Exercises\n",
        "### Test get_number_rows_columns()"
      ]
    },
    {
      "cell_type": "code",
      "metadata": {
        "id": "KBK763fH_EwL",
        "colab_type": "code",
        "outputId": "a7de2486-4f49-476f-e189-2becab2952a3",
        "colab": {
          "base_uri": "https://localhost:8080/",
          "height": 69
        }
      },
      "source": [
        "print(get_number_rows_columns(x))\n",
        "print(get_number_rows_columns(y))\n",
        "print(get_number_rows_columns(z))\n"
      ],
      "execution_count": 0,
      "outputs": [
        {
          "output_type": "stream",
          "text": [
            "(2, 2)\n",
            "(3, 3)\n",
            "(2, 3)\n"
          ],
          "name": "stdout"
        }
      ]
    },
    {
      "cell_type": "markdown",
      "metadata": {
        "id": "-DuYuYMu_4yg",
        "colab_type": "text"
      },
      "source": [
        "Test isSquareMatrix()"
      ]
    },
    {
      "cell_type": "code",
      "metadata": {
        "id": "1oytghZf_l4a",
        "colab_type": "code",
        "outputId": "81d33ba6-2997-4dc4-81f5-f25a9a215791",
        "colab": {
          "base_uri": "https://localhost:8080/",
          "height": 69
        }
      },
      "source": [
        "\n",
        "print(isSquareMatrix(x))\n",
        "print(isSquareMatrix(y))\n",
        "print(isSquareMatrix(z))"
      ],
      "execution_count": 0,
      "outputs": [
        {
          "output_type": "stream",
          "text": [
            "True\n",
            "True\n",
            "False\n"
          ],
          "name": "stdout"
        }
      ]
    },
    {
      "cell_type": "markdown",
      "metadata": {
        "id": "zHbssn8PABjY",
        "colab_type": "text"
      },
      "source": [
        "Test get_dot_product()\n"
      ]
    },
    {
      "cell_type": "code",
      "metadata": {
        "id": "2TbRVKudAImG",
        "colab_type": "code",
        "outputId": "7d28c6e7-8543-4756-8926-548c6412ae04",
        "colab": {
          "base_uri": "https://localhost:8080/",
          "height": 51
        }
      },
      "source": [
        "print(get_dot_product(x[0],x[1]))\n",
        "print(get_dot_product(y[0],y[1]))"
      ],
      "execution_count": 0,
      "outputs": [
        {
          "output_type": "stream",
          "text": [
            "1\n",
            "32\n"
          ],
          "name": "stdout"
        }
      ]
    },
    {
      "cell_type": "markdown",
      "metadata": {
        "id": "NCPFe8q9Ar3Z",
        "colab_type": "text"
      },
      "source": [
        "Test transpose_matrix()"
      ]
    },
    {
      "cell_type": "code",
      "metadata": {
        "id": "XodYeWzIAufN",
        "colab_type": "code",
        "outputId": "43c4325b-39b3-472d-ca9e-d8abbf384b7d",
        "colab": {
          "base_uri": "https://localhost:8080/",
          "height": 69
        }
      },
      "source": [
        "r,c = get_number_rows_columns(x)\n",
        "print(x, \"and its transpose is \", transpose_matrix(x,r,c))\n",
        "r,c = get_number_rows_columns(y)\n",
        "print(y, \"and its transpose is \", transpose_matrix(y,r,c))\n",
        "r,c = get_number_rows_columns(z)\n",
        "print(z, \"and its transpose is \", transpose_matrix(z,r,c))\n"
      ],
      "execution_count": 0,
      "outputs": [
        {
          "output_type": "stream",
          "text": [
            "[[1, 1], [1, 0]] and its transpose is  [[1, 1], [1, 0]]\n",
            "[[1, 2, 3], [4, 5, 6], [7, 8, 9]] and its transpose is  [[1, 4, 7], [2, 5, 8], [3, 6, 9]]\n",
            "[[1, 2, 3], [4, 5, 6]] and its transpose is  [[1, 4], [2, 5], [3, 6]]\n"
          ],
          "name": "stdout"
        }
      ]
    },
    {
      "cell_type": "markdown",
      "metadata": {
        "id": "nZqGbAGlBqwM",
        "colab_type": "text"
      },
      "source": [
        "Test matrix_multiplier()"
      ]
    },
    {
      "cell_type": "code",
      "metadata": {
        "id": "PP53CeSsBt5n",
        "colab_type": "code",
        "outputId": "a7c7b653-4473-48d8-8963-42543b8e560c",
        "colab": {
          "base_uri": "https://localhost:8080/",
          "height": 34
        }
      },
      "source": [
        "m = [[1,2,4],[5,6,7]]\n",
        "n = [[1,2],[3,4],[5,6]]\n",
        "print(matrix_multiplier(m,n))"
      ],
      "execution_count": 0,
      "outputs": [
        {
          "output_type": "stream",
          "text": [
            "[[27, 34], [58, 76]]\n"
          ],
          "name": "stdout"
        }
      ]
    },
    {
      "cell_type": "markdown",
      "metadata": {
        "id": "xpWnhv4xCUL4",
        "colab_type": "text"
      },
      "source": [
        "Test power_of_matrix()"
      ]
    },
    {
      "cell_type": "code",
      "metadata": {
        "id": "skRmvbQFCTSB",
        "colab_type": "code",
        "outputId": "1bcc651e-89ec-4611-d930-c3511ca04fb6",
        "colab": {
          "base_uri": "https://localhost:8080/",
          "height": 638
        }
      },
      "source": [
        "print(\"input matrix is\", x)\n",
        "for n in range(1,11):\n",
        "    print(power_of_matrix(x,n))\n",
        "print(\"=============================\")    \n",
        "print(\"input matrix is\", y)\n",
        "for n in range(1,11):\n",
        "    print(power_of_matrix(y,n))\n",
        "print(\"=============================\")    \n",
        "print(\"input matrix is\", z)\n",
        "for n in range(1,11):\n",
        "    print(power_of_matrix(z,n))\n",
        "print(\"=============================\")    "
      ],
      "execution_count": 0,
      "outputs": [
        {
          "output_type": "stream",
          "text": [
            "input matrix is [[1, 1], [1, 0]]\n",
            "[[1, 1], [1, 0]]\n",
            "[[2, 1], [1, 1]]\n",
            "[[3, 2], [2, 1]]\n",
            "[[5, 3], [3, 2]]\n",
            "[[8, 5], [5, 3]]\n",
            "[[13, 8], [8, 5]]\n",
            "[[21, 13], [13, 8]]\n",
            "[[34, 21], [21, 13]]\n",
            "[[55, 34], [34, 21]]\n",
            "[[89, 55], [55, 34]]\n",
            "=============================\n",
            "input matrix is [[1, 2, 3], [4, 5, 6], [7, 8, 9]]\n",
            "[[1, 2, 3], [4, 5, 6], [7, 8, 9]]\n",
            "[[30, 36, 42], [66, 81, 96], [102, 126, 150]]\n",
            "[[468, 576, 684], [1062, 1305, 1548], [1656, 2034, 2412]]\n",
            "[[7560, 9288, 11016], [17118, 21033, 24948], [26676, 32778, 38880]]\n",
            "[[121824, 149688, 177552], [275886, 338985, 402084], [429948, 528282, 626616]]\n",
            "[[1963440, 2412504, 2861568], [4446414, 5463369, 6480324], [6929388, 8514234, 10099080]]\n",
            "[[31644432, 38881944, 46119456], [71662158, 88052265, 104442372], [111679884, 137222586, 162765288]]\n",
            "[[510008400, 626654232, 743300064], [1154967822, 1419124617, 1683281412], [1799927244, 2211595002, 2623262760]]\n",
            "[[8219725776, 10099688472, 11979651168], [18614436174, 22871810025, 27129183876], [29009146572, 35643931578, 42278716584]]\n",
            "[[132476037840, 162775103256, 193074168672], [300005963406, 368621393481, 437236823556], [467535888972, 574467683706, 681399478440]]\n",
            "=============================\n",
            "input matrix is [[1, 2, 3], [4, 5, 6]]\n",
            "None\n",
            "None\n",
            "None\n",
            "None\n",
            "None\n",
            "None\n",
            "None\n",
            "None\n",
            "None\n",
            "None\n",
            "=============================\n"
          ],
          "name": "stdout"
        }
      ]
    },
    {
      "cell_type": "markdown",
      "metadata": {
        "id": "JlRMMmIbRs4k",
        "colab_type": "text"
      },
      "source": [
        "Adding new test case"
      ]
    },
    {
      "cell_type": "code",
      "metadata": {
        "id": "9toWQVCT_BzS",
        "colab_type": "code",
        "outputId": "8e97a66c-131d-4cb6-e9d3-a5ff90f448be",
        "colab": {
          "base_uri": "https://localhost:8080/",
          "height": 34
        }
      },
      "source": [
        "a = [[1,2],[3,4]]\n",
        "n = 10\n",
        "print(power_of_matrix(a,n))"
      ],
      "execution_count": 0,
      "outputs": [
        {
          "output_type": "stream",
          "text": [
            "[[4783807, 6972050], [10458075, 15241882]]\n"
          ],
          "name": "stdout"
        }
      ]
    },
    {
      "cell_type": "markdown",
      "metadata": {
        "id": "53x5KtBx-FJx",
        "colab_type": "text"
      },
      "source": [
        "##Exercise for Dictionaries - 1\n",
        "Receive the user input that says something like \"I went to Parliament\" or \"Why don't you go to Wankhede\". You then subsitute the POI by its lat and long coordinates of that POI."
      ]
    },
    {
      "cell_type": "code",
      "metadata": {
        "id": "8Qn1bHta-EDL",
        "colab_type": "code",
        "colab": {}
      },
      "source": [
        "#Create a list of POI dict\n",
        "#A POI dict contains POI name, its lat and long\n",
        "poi_dataset = [\n",
        "               {\"name\": \"Mysore Palace\",\n",
        "                \"lat\" : 12.305223,\n",
        "                \"long\": 76.654107},\n",
        "\n",
        "               {\"name\":\"India Gate\",\n",
        "                \"lat\": 28.613157,\n",
        "                \"long\":77.229520},\n",
        "\n",
        "               {\"name\": \"Lalbagh\",\n",
        "                \"lat\":12.951015,\n",
        "                \"long\":77.584745},\n",
        "\n",
        "               {\"name\": \"Jog Falls\",\n",
        "                \"lat\":14.229740,\n",
        "                \"long\": 74.812523}\n",
        "\n",
        "]\n",
        "\n",
        "#Create a name set\n",
        "poi_name_set = set(each[\"name\"] for each in poi_dataset)\n"
      ],
      "execution_count": 0,
      "outputs": []
    },
    {
      "cell_type": "code",
      "metadata": {
        "id": "dIdnVYNcLKFw",
        "colab_type": "code",
        "colab": {}
      },
      "source": [
        "#Check if the sentence has a POI name\n",
        "def isPoiInInputString(in_str):\n",
        "    found = False\n",
        "    poi = \"\"\n",
        "    for each in poi_name_set:\n",
        "        if each in in_str:\n",
        "            found = True\n",
        "            poi = each\n",
        "            break\n",
        "    return found, poi"
      ],
      "execution_count": 0,
      "outputs": []
    },
    {
      "cell_type": "code",
      "metadata": {
        "id": "kYzKWGoOMHth",
        "colab_type": "code",
        "colab": {}
      },
      "source": [
        "#Input a sentence from user\n",
        "def get_string_from_user():\n",
        "    return input(\"Say something about a POI: \")\n"
      ],
      "execution_count": 0,
      "outputs": []
    },
    {
      "cell_type": "code",
      "metadata": {
        "id": "5Td3m5oVMZ2Z",
        "colab_type": "code",
        "colab": {}
      },
      "source": [
        "def get_lat_long(poi):\n",
        "    #If so, search in the data set for lat and long\n",
        "    for each in poi_dataset:\n",
        "        if each[\"name\"] == poi:\n",
        "            return each[\"lat\"], each[\"long\"]\n",
        "    return \"NA\", \"NA\"\n"
      ],
      "execution_count": 0,
      "outputs": []
    },
    {
      "cell_type": "markdown",
      "metadata": {
        "id": "xcBzaXevM-N6",
        "colab_type": "text"
      },
      "source": [
        "Main function"
      ]
    },
    {
      "cell_type": "code",
      "metadata": {
        "id": "HffbQJ71NBZ7",
        "colab_type": "code",
        "outputId": "de6b791e-d2ff-4070-8fdb-de5552f878f4",
        "colab": {
          "base_uri": "https://localhost:8080/",
          "height": 51
        }
      },
      "source": [
        "input_str = get_string_from_user()\n",
        "isPoi, poi = isPoiInInputString(input_str)\n",
        "if (isPoi):\n",
        "    lat, long = get_lat_long(poi)\n",
        "    print(poi, \" is at \", lat, long, \" coordinates\")\n",
        "else:\n",
        "    print(\"Oh O, I can't find any POI in your string or I don't have it in my database !\")"
      ],
      "execution_count": 0,
      "outputs": [
        {
          "output_type": "stream",
          "text": [
            "Say something about a POI: I want to visit Jog Falls\n",
            "Jog Falls  is at  14.22974 74.812523  coordinates\n"
          ],
          "name": "stdout"
        }
      ]
    },
    {
      "cell_type": "markdown",
      "metadata": {
        "id": "dzJ7jnvVc8s3",
        "colab_type": "text"
      },
      "source": [
        "## Exercise for Dictionaries - 2\n",
        "\n",
        "1.   Create a dictionary whose keys correspond to unique words in a given file and whose values correspond to the number of times each word appears in the file.\n",
        "2.   To an output file, write the 10 most frequent words in separate lines.\n",
        "3.   To an output file, write the 5 most frequenct 2-grams in separate lines.\n"
      ]
    },
    {
      "cell_type": "code",
      "metadata": {
        "id": "QHDYWiqpdAyY",
        "colab_type": "code",
        "colab": {}
      },
      "source": [
        "#This mounts your Google Drive and the filesystem is available to you at /content/drive/My Drive/\n",
        "#Asks for an authorization, allow it and paste the code.\n",
        "from google.colab import drive\n",
        "drive.mount('/content/drive')\n"
      ],
      "execution_count": 0,
      "outputs": []
    },
    {
      "cell_type": "code",
      "metadata": {
        "id": "yOelzsdtdDNs",
        "colab_type": "code",
        "colab": {}
      },
      "source": [
        "#Open the file and read contents, store it in a string called contents\n",
        "import os\n",
        "gdrive_path = \"/content/drive/My Drive/Colab Notebooks/Week5/\"\n",
        "inputfile = \"poem.txt\"  #Input file name\n",
        "outputfile = \"out.txt\"  #Output file for Points 2 and 3.\n",
        "\n",
        "contents = \"\"\n",
        "with open(os.path.join(gdrive_path,\"poem.txt\"),\"r\") as fd:\n",
        "    contents = fd.readlines()"
      ],
      "execution_count": 0,
      "outputs": []
    },
    {
      "cell_type": "markdown",
      "metadata": {
        "id": "AnJMPYWhl1K7",
        "colab_type": "text"
      },
      "source": [
        "*1.   Create a dictionary whose keys correspond to unique words in a given file and whose values correspond to the number of times each word appears in the file.*\n",
        "\n",
        "Put each word of the string into a list. It is easier to operate, put into set, do counts etc.\n",
        "\n",
        "A set holds only unique values. So, put all words in to a set.\n",
        "\n",
        "Then initialise a dictionary with unique key and its number of repeatations i.e. count of unique words\n"
      ]
    },
    {
      "cell_type": "markdown",
      "metadata": {
        "id": "XNayoqrpi62n",
        "colab_type": "text"
      },
      "source": [
        "Hint:\n",
        "\n",
        "*lowercase_contents = \" \".join(x for x in str_file)* \n",
        "> Creates string by joining all words, seperate words by \" \"\n",
        "\n",
        "*lowercase_contents = \" \".join(x.strip() for x in str_file)* \n",
        "\n",
        "\n",
        "> Creates string by joining all words after stripping newline chars\n",
        "\n",
        "*lowercase_contents = \" \".join(x.strip().replace(\",\", \"\").replace(\".\",\"\") for x in contents).lower()*\n",
        "\n",
        "> Joins all words after stripping and replacing commas and periods. Finally converts the entire new string to lower case\n",
        "\n",
        "We'll use the last.\n"
      ]
    },
    {
      "cell_type": "code",
      "metadata": {
        "id": "5HSjjct2h7VN",
        "colab_type": "code",
        "outputId": "dd0ff50b-272d-46df-c6a6-f831fab54e7a",
        "colab": {
          "base_uri": "https://localhost:8080/",
          "height": 54
        }
      },
      "source": [
        "lowercase_contents = \" \".join(x.strip().replace(\",\", \"\").replace(\".\",\"\") for x in contents).lower()\n",
        "\n",
        "list_lowercase_contents = lowercase_contents.split()\n",
        "unique_words = set(x for x in list_lowercase_contents)\n",
        "\n",
        "#print(\"Number of words in file:        \", len(list_lowercase_contents))\n",
        "#print(\"Number of unique words in file: \", len(unique_words), \"\\n\", unique_words)\n",
        "\n",
        "#Point1\n",
        "'''\n",
        "dict_unique_words = {}\n",
        "for unique in unique_words:\n",
        "    dict_unique_words[unique] = list_lowercase_contents.count(unique)\n",
        "'''\n",
        "dict_unique_words = {unique:list_lowercase_contents.count(unique) for unique in unique_words}\n",
        "\n",
        "print (dict_unique_words)\n"
      ],
      "execution_count": 0,
      "outputs": [
        {
          "output_type": "stream",
          "text": [
            "{'millions': 1, 'it': 2, 'sorrow': 1, 'image': 1, 'into': 1, 'forms': 2, 'all': 2, 'light': 1, 'universal': 3, 'distressful': 1, 'or': 1, 'from': 1, 'floated': 1, 'days': 1, 'fount': 1, 'shared': 1, 'memories': 1, 'past': 3, 'with': 1, 'tale': 1, 'but': 1, 'you': 6, 'round': 1, 'apart': 1, 'another': 1, 'tears': 1, 'in': 11, 'age': 4, 'along': 1, 'farewell-': 1, 'i': 4, 'old': 2, 'a': 2, 'feet': 1, 'shy': 1, 'whenever': 1, 'life': 5, 'its': 3, 'that': 3, 'rabindranath': 1, 'man’s': 1, 'both': 1, 'love': 6, 'forever:': 1, 'seem': 1, 'tagore': 1, 'here': 1, 'your': 3, 'by': 1, 'remade': 1, 'pole-star': 1, 'stream': 1, 'heaped': 1, 'many': 1, 'to': 1, 'together': 1, 'my': 1, 'the': 13, 'an': 1, 'merging': 1, 'on': 3, '–': 1, 'neck': 1, 'being': 1, 'meeting': 1, 'lovers': 1, 'hear': 1, 'after': 4, 'joy': 1, 'ours': 1, 'this': 1, 'for': 1, 'numberless': 2, 'has': 2, 'every': 1, 'of': 15, 'ancient': 1, 'loves': 1, 'poet': 1, 'loved': 1, 'remembered': 1, 'is': 2, 'heart': 2, 'songs': 2, 'one': 2, 'clad': 1, 'emerge': 1, 'side': 1, 'darkness': 1, 'stare': 1, 'as': 2, 'renew': 2, 'times': 1, 'made': 1, 'time:': 1, 'at': 2, 'time': 1, 'and': 7, 'take': 1, 'found': 1, 'today': 1, 'spellbound': 1, 'played': 1, 'we': 1, 'chronicles': 1, 'pain': 1, 'what': 1, 'same': 2, 'unending': 1, 'piercing': 1, 'shapes': 1, 'brings': 1, 'sweetness': 1, 'age-old': 1, 'have': 3, 'forever': 5, 'necklace': 1, 'end': 2, 'become': 1, 'wear': 1, 'gift': 1}\n"
          ],
          "name": "stdout"
        }
      ]
    },
    {
      "cell_type": "markdown",
      "metadata": {
        "id": "ov6W2rK1prss",
        "colab_type": "text"
      },
      "source": [
        "*2.   To an output file, write the 10 most frequent words in separate lines.*\n",
        "> Sort the dictionary\n",
        "\n",
        "> To do that, convert the dict into a list of tuples [(k1:v1), (k2:v2), ....]\n",
        "\n",
        "> Now sort it using sorted function. sorted take 2 special parameters. key is a function which it calls for getting the sorting criteria. reverse decides the order, ascending or descending."
      ]
    },
    {
      "cell_type": "code",
      "metadata": {
        "id": "JNtGlOeRpC_G",
        "colab_type": "code",
        "outputId": "6fe85d7f-99c5-4987-d548-2f1717457c8d",
        "colab": {
          "base_uri": "https://localhost:8080/",
          "height": 224
        }
      },
      "source": [
        "#Point2\n",
        "sorted_list = sorted(dict_unique_words.items(), reverse=True, key=lambda x: x[1])\n",
        "\n",
        "with open(os.path.join(gdrive_path,outputfile),\"w\") as out:\n",
        "    print(\"File opened successfully\")\n",
        "    for i in range(10):\n",
        "        line_to_write = \"The word \\\"\" + sorted_list[i][0] + \"\\\" has occured \" + str(sorted_list[i][1]) + \" number of times\\n\"\n",
        "        out.write(line_to_write)\n",
        "        print(line_to_write.strip())\n",
        "    print(\"File written\")"
      ],
      "execution_count": 0,
      "outputs": [
        {
          "output_type": "stream",
          "text": [
            "File opened successfully\n",
            "The word \"of\" has occured 15 number of times\n",
            "The word \"the\" has occured 13 number of times\n",
            "The word \"in\" has occured 11 number of times\n",
            "The word \"and\" has occured 7 number of times\n",
            "The word \"you\" has occured 6 number of times\n",
            "The word \"love\" has occured 6 number of times\n",
            "The word \"life\" has occured 5 number of times\n",
            "The word \"forever\" has occured 5 number of times\n",
            "The word \"age\" has occured 4 number of times\n",
            "The word \"i\" has occured 4 number of times\n",
            "File written\n"
          ],
          "name": "stdout"
        }
      ]
    },
    {
      "cell_type": "markdown",
      "metadata": {
        "id": "QAw00QU4qvE6",
        "colab_type": "text"
      },
      "source": [
        "*3.   To an output file, write the 5 most frequenct 2-grams in separate lines.*\n",
        "\n",
        ">First create a 2 grams list and find unique 2 grams\n",
        "\n",
        "> Again sort it like before.\n"
      ]
    },
    {
      "cell_type": "code",
      "metadata": {
        "id": "5g9t5KDzr5dA",
        "colab_type": "code",
        "outputId": "ec492076-1656-472c-ccee-63f156a4cef0",
        "colab": {
          "base_uri": "https://localhost:8080/",
          "height": 138
        }
      },
      "source": [
        "#Point3:\n",
        "\n",
        "two_grams = [list_lowercase_contents[i] +\" \"+ list_lowercase_contents[i+1]  for i in range(len(list_lowercase_contents)-1)]\n",
        "unique_2_grams = set(x for x in two_grams)\n",
        "\n",
        "'''\n",
        "dict_unique_2_grams = {}\n",
        "for unique in two_grams:\n",
        "    dict_unique_2_grams[unique] = two_grams.count(unique)\n",
        "'''\n",
        "dict_unique_2_grams = {unique:two_grams.count(unique) for unique in two_grams}\n",
        "\n",
        "sorted_list_2g = sorted(dict_unique_2_grams.items(), reverse=True, key=lambda x: x[1])\n",
        "\n",
        "with open(os.path.join(gdrive_path,outputfile),\"a\") as out:\n",
        "    print(\"File opened successfully\")\n",
        "    for i in range(5):\n",
        "        line_to_write = \"The 2-gram \\\"\" + sorted_list_2g[i][0] + \"\\\" has occured \" + str(sorted_list[i][1]) + \" number of times\\n\"\n",
        "        out.write(line_to_write)\n",
        "        print(line_to_write.strip())\n",
        "    print(\"File written\")"
      ],
      "execution_count": 0,
      "outputs": [
        {
          "output_type": "stream",
          "text": [
            "File opened successfully\n",
            "The 2-gram \"in the\" has occured 15 number of times\n",
            "The 2-gram \"love of\" has occured 13 number of times\n",
            "The 2-gram \"in life\" has occured 11 number of times\n",
            "The 2-gram \"life after\" has occured 7 number of times\n",
            "The 2-gram \"after life\" has occured 6 number of times\n",
            "File written\n"
          ],
          "name": "stdout"
        }
      ]
    },
    {
      "cell_type": "markdown",
      "metadata": {
        "id": "f6eVNukQIlJn",
        "colab_type": "text"
      },
      "source": [
        "#Assignments\n"
      ]
    },
    {
      "cell_type": "markdown",
      "metadata": {
        "id": "x2pPFVhsQ4oh",
        "colab_type": "text"
      },
      "source": [
        "##Exercise 1 <br>\n",
        "**Attempt any 3 questions**"
      ]
    },
    {
      "cell_type": "markdown",
      "metadata": {
        "id": "XVFNbHsgH9QU",
        "colab_type": "text"
      },
      "source": [
        "1.   Create a list of 10 ordered pairs **$(x,y),\\ \\ x\\ \\epsilon\\ [-6,6]$** such that they satisfy the equation **$x^2+y^2=r^2$** where **$r=6$**."
      ]
    },
    {
      "cell_type": "code",
      "metadata": {
        "id": "a-9vO08DT5j6",
        "colab_type": "code",
        "outputId": "a2fce414-3609-40ee-d5e5-7aa3b98283b0",
        "colab": {
          "base_uri": "https://localhost:8080/",
          "height": 54
        }
      },
      "source": [
        "#1. Create a list of 10 ordered pairs  (x,y),  x ϵ [−6,6]  such that they satisfy the equation  x^2+y^2=r^2  where  r=6 .\n",
        "from math import sqrt\n",
        "ordered_pairs = []\n",
        "num_pairs = 0\n",
        "r = 6\n",
        "for x in range (-6,7):\n",
        "    y = sqrt(r**2-x**2)\n",
        "    pair = (x,y)\n",
        "    if num_pairs <=10 :\n",
        "        ordered_pairs.append(pair)\n",
        "        num_pairs += 1 \n",
        "print(ordered_pairs)"
      ],
      "execution_count": 0,
      "outputs": [
        {
          "output_type": "stream",
          "text": [
            "[(-6, 0.0), (-5, 3.3166247903554), (-4, 4.47213595499958), (-3, 5.196152422706632), (-2, 5.656854249492381), (-1, 5.916079783099616), (0, 6.0), (1, 5.916079783099616), (2, 5.656854249492381), (3, 5.196152422706632), (4, 4.47213595499958)]\n"
          ],
          "name": "stdout"
        }
      ]
    },
    {
      "cell_type": "markdown",
      "metadata": {
        "id": "IwkJPe-wIF8X",
        "colab_type": "text"
      },
      "source": [
        "2.   We have a list of tuple representing the name and height (in cms) of 5 students respectively. Convert the list into a dictionary so that we can access the student's height from their names. \n",
        "> ```data = [('Sumit', 183), ('Rahul', 175), ('Kritika', 170), ('Harshit', 177), ('Deepak', 162)]```"
      ]
    },
    {
      "cell_type": "code",
      "metadata": {
        "id": "EjyxlaIXRcIu",
        "colab_type": "code",
        "outputId": "c4b5c10e-5084-4db8-e5de-715596f02b32",
        "colab": {
          "base_uri": "https://localhost:8080/",
          "height": 34
        }
      },
      "source": [
        "#2. We have a list of tuple representing the name and height (in cms) of 5 students respectively. Convert the list into a dictionary so that we can access the student's height from their names.\n",
        "data = [('Sumit', 183), ('Rahul', 175), ('Kritika', 170), ('Harshit', 177), ('Deepak', 162)]\n",
        "\n",
        "dict_data = {each[0]:each[1] for each in data}\n",
        "print(dict_data)\n"
      ],
      "execution_count": 0,
      "outputs": [
        {
          "output_type": "stream",
          "text": [
            "{'Sumit': 183, 'Rahul': 175, 'Kritika': 170, 'Harshit': 177, 'Deepak': 162}\n"
          ],
          "name": "stdout"
        }
      ]
    },
    {
      "cell_type": "markdown",
      "metadata": {
        "id": "MGsM4PUXIOIF",
        "colab_type": "text"
      },
      "source": [
        "3.   Write a function which takes list of random integers as an input and returns the list all the unique values present in that list. For ex:\n",
        ">``` \n",
        "Input: [1, 2, 4, 4, 3, 2, 1, 1, 2, 4, 5, 3]\n",
        "Output : [1, 2, 3, 4, 5]\n",
        "```\n"
      ]
    },
    {
      "cell_type": "code",
      "metadata": {
        "id": "PZo5Wm9hSHg7",
        "colab_type": "code",
        "outputId": "59b592d7-9570-48a4-ad05-a349459b0d8c",
        "colab": {
          "base_uri": "https://localhost:8080/",
          "height": 34
        }
      },
      "source": [
        "#3. Write a function which takes list of random integers as an input and returns the list all the unique values present in that list.\n",
        "\n",
        "input_list = [1, 2, 4, 4, 3, 2, 1, 1, 2, 4, 5, 3]\n",
        "output_set = set(i for i in input_list)\n",
        "print(output_set)"
      ],
      "execution_count": 0,
      "outputs": [
        {
          "output_type": "stream",
          "text": [
            "{1, 2, 3, 4, 5}\n"
          ],
          "name": "stdout"
        }
      ]
    },
    {
      "cell_type": "markdown",
      "metadata": {
        "id": "BQUTXFufISxF",
        "colab_type": "text"
      },
      "source": [
        "4.   Write a program to generate a dictionary that contains the number between $1$ and $n$ in the form of $(key : value) = (x : x^2)$ where $n=100$. For ex:\n",
        ">```\n",
        "If n = 7 then output will be = {0:0, 1:1, 2:4}\n",
        "```\n"
      ]
    },
    {
      "cell_type": "code",
      "metadata": {
        "id": "b2xs-l1rSkFM",
        "colab_type": "code",
        "outputId": "cb35817d-72d8-4dae-a479-54e8f254a548",
        "colab": {
          "base_uri": "https://localhost:8080/",
          "height": 34
        }
      },
      "source": [
        "#4. Write a program to generate a dictionary that contains the number between  1  and  n  in the form of  (key:value)=(x:x2)  where  n=100 . \n",
        "n=100\n",
        "x = 1\n",
        "dict_squares={}\n",
        "while x**2 <= n :\n",
        "    dict_squares[x] = x**2\n",
        "    x += 1\n",
        "\n",
        "print(dict_squares)"
      ],
      "execution_count": 2,
      "outputs": [
        {
          "output_type": "stream",
          "text": [
            "{1: 1, 2: 4, 3: 9, 4: 16, 5: 25, 6: 36, 7: 49, 8: 64, 9: 81, 10: 100}\n"
          ],
          "name": "stdout"
        }
      ]
    },
    {
      "cell_type": "markdown",
      "metadata": {
        "id": "vfr8ZLLVIY1c",
        "colab_type": "text"
      },
      "source": [
        "5.  Write a function which takes a dictionary as an input as return the list of all unique values of dictionary. For ex:\n",
        ">```\n",
        "Input : {'a':1, 'b':2, 'c':1, 'd':1, 'e':2, 'f':3, 'g':4, 'h':3, 'i':4}\n",
        "output : [1, 2, 3, 4]\n",
        "```\n"
      ]
    },
    {
      "cell_type": "code",
      "metadata": {
        "id": "gJS49046jz2F",
        "colab_type": "code",
        "outputId": "4f9bfa1c-7ff5-4c91-c7be-56cab7b300e7",
        "colab": {
          "base_uri": "https://localhost:8080/",
          "height": 34
        }
      },
      "source": [
        "#5. Write a function which takes a dictionary as an input as return the list of all unique values of dictionary. For ex:\n",
        "dict_input = {'a':1, 'b':2, 'c':1, 'd':1, 'e':2, 'f':3, 'g':4, 'h':3, 'i':4}\n",
        "unique_val = {val for val in dict_input.values()}\n",
        "print(unique_val)"
      ],
      "execution_count": 0,
      "outputs": [
        {
          "output_type": "stream",
          "text": [
            "{1, 2, 3, 4}\n"
          ],
          "name": "stdout"
        }
      ]
    },
    {
      "cell_type": "markdown",
      "metadata": {
        "id": "g7GHfB4tIiA4",
        "colab_type": "text"
      },
      "source": [
        "6.  Write a Python program to remove newline characters from a file."
      ]
    },
    {
      "cell_type": "markdown",
      "metadata": {
        "id": "l5THv7SQIkJy",
        "colab_type": "text"
      },
      "source": [
        "7.  Write a Python program that takes a text file as input and returns the number of words of a given text file."
      ]
    },
    {
      "cell_type": "markdown",
      "metadata": {
        "id": "Onle4LUeIyvV",
        "colab_type": "text"
      },
      "source": [
        "##Exercise 2\n",
        "**Attempt any 3 questions**"
      ]
    },
    {
      "cell_type": "markdown",
      "metadata": {
        "id": "IprfXrmDIx1Z",
        "colab_type": "text"
      },
      "source": [
        "1.  Write a python function which accepts a tuple representing the fields (func, $x_a$) where 'func' is **any** function $f(x)$ and $x_a$ is a point on which you have to find the slope i,e; $\\frac{df(x)}{dx}$ and return a tuple of (slope, $x_a$, $f(x_a)$, $\\Delta x$)  where $\\Delta x \\to 0$ but $\\Delta x \\neq 0$.\n",
        ">   Remember : $\\lim_{\\Delta x \\to 0} \\frac{f(x_a + \\Delta x) - f(x_a)}{\\Delta x}$"
      ]
    },
    {
      "cell_type": "markdown",
      "metadata": {
        "id": "0yTr93hz1s4b",
        "colab_type": "text"
      },
      "source": [
        "2.  Write a python function which accepts two arguments ($n$, $a$) and returns a tuple of $n$ elements where $n^{th}$ element should be : $n^{th}_{element} = 1+\\frac{a}{1!}+\\frac{a^2}{2!}+\\frac{a^3}{3!}+...+\\frac{a^n}{n!}$ and $a$ should be any positive number. (Observe the last 10 values of returned tuple if $n > 20$)"
      ]
    },
    {
      "cell_type": "code",
      "metadata": {
        "id": "9g_2KPyq1Bqs",
        "colab_type": "code",
        "colab": {}
      },
      "source": [
        "def factorial_recursive(n):\n",
        "    if n >= 1:\n",
        "        return n * factorial_recursive(n-1)\n",
        "    elif n==0:\n",
        "        return 1\n",
        "def compute_xn_by_nfact(x=0.0, n=0):\n",
        "    return (x**n / factorial_recursive(n))\n",
        "\n",
        "def compute_xn_by_nfact_summation(x=0.0,n=0):\n",
        "    if n==0:\n",
        "        return 1\n",
        "    else:\n",
        "        return compute_xn_by_nfact(x,n) + compute_xn_by_nfact_summation(x,n-1)\n",
        "\n",
        "def taylor_series_for_exponentials(a=2, n=10):\n",
        "    nth_element = []\n",
        "    for i in range(n):\n",
        "        nth_element.append(compute_xn_by_nfact_summation(a,i))\n",
        "    return tuple(i for i in nth_element)\n",
        "\n",
        "print(taylor_series_for_exponentials())\n"
      ],
      "execution_count": 0,
      "outputs": []
    },
    {
      "cell_type": "markdown",
      "metadata": {
        "id": "Bz7_YLwo7eND",
        "colab_type": "text"
      },
      "source": [
        "3.  Write a python function which generates the list of $n$ dictionaries representing $n$ students. Each dictionary should have two keys **Name** and **Marks**, the value of **Marks** key should be a list of 10 elements representing marks in 10 subjects as $[a_1,a_2,a_3,a_4,...,a_{10}]$. Create another function which accepts such dictionary and performs operation on marks and returns a list as $[\\alpha_1,\\alpha_2,\\alpha_3,\\alpha_4,...,\\alpha_{10}]$ where $\\alpha_i = \\beta \\alpha_{i-1} + (1-\\beta)a_i$ and $\\beta = 0.99, \\alpha_0 = 1, i=1,2,3,...,10$"
      ]
    },
    {
      "cell_type": "code",
      "metadata": {
        "id": "3At46nki7ir0",
        "colab_type": "code",
        "colab": {}
      },
      "source": [
        "from random import randrange\n",
        "def create_student_list(num_students):\n",
        "    list_students = []\n",
        "    for i in range(1,num_students+1):\n",
        "        student = {}\n",
        "        student['Name']  = \"Student\" + str(i)\n",
        "        student['Marks'] = [randrange(40,100) for i in range(10)]\n",
        "        list_students.append(student)\n",
        "    return list_students\n",
        "    \n",
        "\n",
        "def get_alpha_student(student={'Name':\"\",\"Marks\":[]}):\n",
        "    alpha = 0\n",
        "    beta = 0.99\n",
        "    list_alpha = []\n",
        "\n",
        "    for i in range(1, 1+len(student['Marks'])):\n",
        "        alpha = beta * alpha + ((1-beta)*student['Marks'][i-1])\n",
        "        list_alpha.append(alpha)\n",
        "    return list_alpha\n",
        "        \n",
        "\n",
        "all_students = create_student_list(10)\n",
        "for each in all_students:\n",
        "    print (each)\n",
        "all_students_alpha =[]\n",
        "for each in all_students:\n",
        "    all_students_alpha.append(get_alpha_student(each))\n",
        "for each in all_students_alpha:\n",
        "    print (each)\n"
      ],
      "execution_count": 0,
      "outputs": []
    },
    {
      "cell_type": "markdown",
      "metadata": {
        "id": "o0Ikbfz9ROBM",
        "colab_type": "text"
      },
      "source": [
        "4.  Create a dictionary, with **keys** should be the number from 1 to 100 (1 and 100 both inclusive) and the value should be the list of string representing whether that key is **'Prime'**, **'Fibonacci'** (if that number exist in Fibonacci sequence), **'Square'** or all of three. Also write a function which accepts a dictionary (which you will create) and string **Prime**, **Fibonacci** or **Square** and by searching through dictionary it should return a tuple of that numbers.\n",
        "For ex:\n",
        ">```\n",
        "sample_dict = {1: ['Fibonacci', 'Square'], 6: [], ..., 13: ['Prime', 'Fibonacci'], ..., 34: ['Fibonacci'], ..., 100: ['Square']}\n",
        " For second part of the question:\n",
        " seq = func_name('Fibonacci')\n",
        " print(seq) --> (1, 2, 3, 5, 8, 13, 21, ..., 89)\n",
        "```"
      ]
    },
    {
      "cell_type": "code",
      "metadata": {
        "id": "7gijimUFRQf6",
        "colab_type": "code",
        "outputId": "c6f05873-82ba-443d-e19f-a37a05e3aedc",
        "colab": {
          "base_uri": "https://localhost:8080/",
          "height": 69
        }
      },
      "source": [
        "def get_squares(n=10):\n",
        "    squares = []\n",
        "    i = 1\n",
        "    if n>1:\n",
        "        for i in range (1,n):\n",
        "            if i*i <= n :\n",
        "                squares.append(i*i)\n",
        "            else:\n",
        "                break\n",
        "    elif n == 1:\n",
        "        squares.append(1)\n",
        "    #print (squares)\n",
        "    return squares\n",
        "\n",
        "def get_prime_numbers(n):\n",
        "    prime_numbers = []\n",
        "    if n >= 2 :\n",
        "        prime_numbers.append(1)\n",
        "        for i in range (2,n):\n",
        "            prime = True\n",
        "            for j in range (2,i):\n",
        "                if i % j == 0:\n",
        "                    #print(i, \" is not prime\")\n",
        "                    prime = False\n",
        "                    break\n",
        "            if prime:\n",
        "                prime_numbers.append(i)\n",
        "    elif n == 1:\n",
        "        prime_numbers = [1]\n",
        "    return prime_numbers\n",
        "\n",
        "def get_fibonacci_number(n=10):\n",
        "    Fibonacci_numbers = [1,1]\n",
        "    a = 1\n",
        "    b = 1\n",
        "    if n == 2:\n",
        "        Fibonacci_numbers.append(1)\n",
        "        Fibonacci_numbers.append(1)\n",
        "    elif n == 1:\n",
        "        Fibonacci_numbers.append(1)\n",
        "    elif n > 2:\n",
        "        while(a+b <= n):\n",
        "            temp = a + b\n",
        "            Fibonacci_numbers.append(temp)\n",
        "            a = b\n",
        "            b = temp\n",
        "    #print(Fibonacci_numbers)\n",
        "    return Fibonacci_numbers\n",
        "\n",
        "def create_dict_numbers(n=10):\n",
        "    '''\n",
        "    n = nth key\n",
        "    i.e. if n = 100, the dict will contain 1 to 100 keys\n",
        "    '''\n",
        "\n",
        "    squares = get_squares(n)\n",
        "    #print(squares)\n",
        "\n",
        "    prime_numbers = get_prime_numbers(n)\n",
        "    #print(prime_numbers)\n",
        "\n",
        "    fibonacci_numbers = get_fibonacci_number(n)\n",
        "    #print(fibonacci_numbers)\n",
        "\n",
        "    dict_numbers = {}\n",
        "    for i in range(1, n+1):\n",
        "        val = []\n",
        "        if i in squares:\n",
        "            val.append('Square')\n",
        "        if i in prime_numbers:\n",
        "            val.append('Prime')\n",
        "        if i in fibonacci_numbers:\n",
        "            val.append('Fibonacci')\n",
        "        dict_numbers[i]=val\n",
        "    return dict_numbers\n",
        "\n",
        "def get_numbers_of_type(d={}, type = 'Square'):\n",
        "    ret_list = []\n",
        "    for item in d.items():\n",
        "        if type in item[1]:\n",
        "            ret_list.append(item[0])\n",
        "    return tuple(ret_list)\n",
        "\n",
        "#sorted_list = sorted(dict_unique_words.items(), reverse=True, key=lambda x: x[1])\n",
        "\n",
        "numbers = create_dict_numbers(100)\n",
        "\n",
        "sequence = get_numbers_of_type(numbers, 'Square')\n",
        "print('Squares: ' , sequence)\n",
        "sequence = get_numbers_of_type(numbers, 'Prime')\n",
        "print('Prime Numbers: ' , sequence)\n",
        "sequence = get_numbers_of_type(numbers, 'Fibonacci')\n",
        "print('Fibonacci Numbers: ' , sequence)\n"
      ],
      "execution_count": 0,
      "outputs": [
        {
          "output_type": "stream",
          "text": [
            "Squares:  (1, 4, 9, 16, 25, 36, 49, 64, 81, 100)\n",
            "Prime Numbers:  (1, 2, 3, 5, 7, 11, 13, 17, 19, 23, 29, 31, 37, 41, 43, 47, 53, 59, 61, 67, 71, 73, 79, 83, 89, 97)\n",
            "Fibonacci Numbers:  (1, 2, 3, 5, 8, 13, 21, 34, 55, 89)\n"
          ],
          "name": "stdout"
        }
      ]
    },
    {
      "cell_type": "markdown",
      "metadata": {
        "id": "R0iF3c-VgH68",
        "colab_type": "text"
      },
      "source": [
        "5.  Copy the below paragraph and write an ecoded text file then read the same file and reconstruct the original paragraph. You have to use $f(a)$ function for encoding and decoding the text. $f(a) = 2a + 3$,where $a$ is an **ASCII** value of charater.\n",
        ">```\n",
        "Data science is an inter-disciplinary field that uses scientific methods, processes, algorithms and systems to extract knowledge and insights from structured and unstructured data. Data science is related to data mining and big data. Data science is a \"concept to unify statistics, data analysis, machine learning and their related methods\" in order to \"understand and analyze actual phenomena\" with data. It employs techniques and theories drawn from many fields within the context of mathematics, statistics, computer science, and information science. Turing award winner Jim Gray imagined data science as a \"fourth paradigm\" of science (empirical, theoretical, computational and now data-driven) and asserted that \"everything about science is changing because of the impact of information technology\" and the data deluge. In 2015, the American Statistical Association identified database management, statistics and machine learning, and distributed and parallel systems as the three emerging foundational professional communities.\n",
        "```"
      ]
    },
    {
      "cell_type": "code",
      "metadata": {
        "id": "ai-YOCBhw-sS",
        "colab_type": "code",
        "colab": {}
      },
      "source": [
        "from google.colab import drive\n",
        "drive.mount('/content/drive')"
      ],
      "execution_count": 0,
      "outputs": []
    },
    {
      "cell_type": "code",
      "metadata": {
        "id": "qBA8ikazgK3L",
        "colab_type": "code",
        "outputId": "19ce0bba-25aa-453f-8102-542d1c0f8815",
        "colab": {
          "base_uri": "https://localhost:8080/",
          "height": 34
        }
      },
      "source": [
        "file_path = \"/content/drive/My Drive/Colab Notebooks/Week5/encoded_text.txt\"\n",
        "\n",
        "text = 'Data science is an inter-disciplinary field that uses scientific methods, processes, algorithms and systems to extract knowledge and insights from structured and unstructured data. Data science is related to data mining and big data. Data science is a \"concept to unify statistics, data analysis, machine learning and their related methods\" in order to \"understand and analyze actual phenomena\" with data. It employs techniques and theories drawn from many fields within the context of mathematics, statistics, computer science, and information science. Turing award winner Jim Gray imagined data science as a \"fourth paradigm\" of science (empirical, theoretical, computational and now data-driven) and asserted that \"everything about science is changing because of the impact of information technology\" and the data deluge. In 2015, the American Statistical Association identified database management, statistics and machine learning, and distributed and parallel systems as the three emerging foundational professional communities.'\n",
        "\n",
        "#Prepare encoded string\n",
        "encoded_text = \"\"\n",
        "for each in text:\n",
        "    encoded_text += chr(2 * ord(each)  + 3 )\n",
        "\n",
        "#Write encoded string to file\n",
        "with open(file_path,\"w\") as fd:\n",
        "    fd.write(encoded_text)\n",
        "\n",
        "#Read the encoded string back from the file\n",
        "encoded_text = \"\"\n",
        "with open(file_path,\"r\") as fd:\n",
        "    encoded_text = fd.read()\n",
        "\n",
        "#Decode the encoded string\n",
        "decoded_text = \"\"\n",
        "for each in encoded_text:\n",
        "    decoded_text += chr((ord(each)-3)//2)\n",
        "\n",
        "#Check if the decoded string matches the original string\n",
        "error = False\n",
        "for i in range(len(text)):\n",
        "    if text[i] != decoded_text[i]:\n",
        "        error = True\n",
        "        break\n",
        "\n",
        "#Print the result.\n",
        "if error:\n",
        "    print(\"Decoded text is NOT matching the original text\")\n",
        "else:\n",
        "    print(\"Decoded text is matching the original text\")"
      ],
      "execution_count": 0,
      "outputs": [
        {
          "output_type": "stream",
          "text": [
            "Decoded text is matching the original text\n"
          ],
          "name": "stdout"
        }
      ]
    },
    {
      "cell_type": "markdown",
      "metadata": {
        "id": "i5PghPr1I1tg",
        "colab_type": "text"
      },
      "source": [
        "6.  Using below text, write a file named File_1.txt and you have to insert new line character after every 10 words.\n",
        ">```\n",
        "Data science is an inter-disciplinary field that uses scientific methods processes algorithms and systems to extract knowledge and insights from structured and unstructured data Data science is related to data mining and big data. Data science is a concept to unify statistics data analysis machine learning and their related methods in order to understand and analyze actual phenomena with data It employs techniques and theories drawn from many fields within the context of mathematics statistics computer science and information science Turing award winner Jim Gray imagined data science as a fourth paradigm of science empirical theoretical computational and now data driven and asserted that everything about science is changing because of the impact of information technology and the data deluge In 2015 the American Statistical Association identified database management statistics and machine learning and distributed and parallel systems as the three emerging foundational professional communities\n",
        "```"
      ]
    },
    {
      "cell_type": "code",
      "metadata": {
        "id": "tROx4AFkxL2-",
        "colab_type": "code",
        "colab": {}
      },
      "source": [
        "input_string = 'Data science is an inter-disciplinary field that uses scientific methods processes algorithms and systems to extract knowledge and insights from structured and unstructured data Data science is related to data mining and big data. Data science is a concept to unify statistics data analysis machine learning and their related methods in order to understand and analyze actual phenomena with data It employs techniques and theories drawn from many fields within the context of mathematics statistics computer science and information science Turing award winner Jim Gray imagined data science as a fourth paradigm of science empirical theoretical computational and now data driven and asserted that everything about science is changing because of the impact of information technology and the data deluge In 2015 the American Statistical Association identified database management statistics and machine learning and distributed and parallel systems as the three emerging foundational professional communities'\n",
        "output_file_path = \"/content/drive/My Drive/Colab Notebooks/Week5/File_1.txt\"\n",
        "list_input_string = input_string.split()\n",
        "list_output_string = []\n",
        "for i in range(1, 1+ len(list_input_string)):\n",
        "    list_output_string.append(list_input_string[i-1])\n",
        "    if i%10 == 0:\n",
        "        list_output_string.append(\"\\n\")\n",
        "output_string = \" \".join(list_output_string)\n",
        "with open(output_file_path, \"w\") as fd:\n",
        "    fd.write(output_string)\n"
      ],
      "execution_count": 0,
      "outputs": []
    }
  ]
}